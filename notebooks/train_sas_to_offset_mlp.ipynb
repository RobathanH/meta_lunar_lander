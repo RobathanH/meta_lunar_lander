{
 "cells": [
  {
   "attachments": {},
   "cell_type": "markdown",
   "metadata": {},
   "source": [
    "### Initialize"
   ]
  },
  {
   "cell_type": "code",
   "execution_count": 1,
   "metadata": {},
   "outputs": [],
   "source": [
    "import os, sys\n",
    "sys.path.insert(1, os.path.join(sys.path[0], '..'))"
   ]
  },
  {
   "cell_type": "code",
   "execution_count": 2,
   "metadata": {},
   "outputs": [],
   "source": [
    "import torch\n",
    "from networks import MLP\n",
    "import json\n",
    "import numpy as np\n",
    "from matplotlib import pyplot as plt"
   ]
  },
  {
   "cell_type": "code",
   "execution_count": 3,
   "metadata": {},
   "outputs": [],
   "source": [
    "load_dir = '../output/no_offset_ddpg_0/'\n",
    "obs_size = 8\n",
    "action_size = 2"
   ]
  },
  {
   "cell_type": "code",
   "execution_count": 4,
   "metadata": {},
   "outputs": [
    {
     "data": {
      "text/plain": [
       "device(type='cuda', index=0)"
      ]
     },
     "execution_count": 4,
     "metadata": {},
     "output_type": "execute_result"
    }
   ],
   "source": [
    "device = torch.device(0)\n",
    "device"
   ]
  },
  {
   "attachments": {},
   "cell_type": "markdown",
   "metadata": {},
   "source": [
    "### Get experience buffer"
   ]
  },
  {
   "cell_type": "code",
   "execution_count": 5,
   "metadata": {},
   "outputs": [],
   "source": [
    "exp_buffer = torch.load('../output/no_offset_ddpg_0/exp_buffer.pt')\n",
    "# entries are (s, a, r, s', done_flag) with |s|=8, |a|=2, |r|=1, |done_flag|=1"
   ]
  },
  {
   "cell_type": "code",
   "execution_count": 6,
   "metadata": {},
   "outputs": [],
   "source": [
    "exp_buffer = torch.load(os.path.join(load_dir, \"exp_buffer.pt\"))\n",
    "with open(os.path.join(load_dir, \"exp_buffer_state.json\"), \"r\") as fp:\n",
    "    exp_buffer_state = json.load(fp)\n",
    "    next_ind = exp_buffer_state[\"next_ind\"]\n",
    "    full = exp_buffer_state[\"full\"]"
   ]
  },
  {
   "cell_type": "code",
   "execution_count": 7,
   "metadata": {},
   "outputs": [
    {
     "data": {
      "text/plain": [
       "tensor([[0.0050, 1.4019, 0.5016,  ..., 0.0000, 0.0000, 0.0000],\n",
       "        [0.0099, 1.3923, 0.5010,  ..., 0.0000, 0.0000, 0.0000],\n",
       "        [0.0149, 1.3821, 0.5010,  ..., 0.0000, 0.0000, 0.0000],\n",
       "        ...,\n",
       "        [0.0000, 0.0000, 0.0000,  ..., 0.0000, 0.0000, 0.0000],\n",
       "        [0.0000, 0.0000, 0.0000,  ..., 0.0000, 0.0000, 0.0000],\n",
       "        [0.0000, 0.0000, 0.0000,  ..., 0.0000, 0.0000, 0.0000]])"
      ]
     },
     "execution_count": 7,
     "metadata": {},
     "output_type": "execute_result"
    }
   ],
   "source": [
    "exp_buffer"
   ]
  },
  {
   "cell_type": "code",
   "execution_count": 8,
   "metadata": {},
   "outputs": [],
   "source": [
    "# trim empty entries\n",
    "exp_buffer = exp_buffer[:next_ind]\n",
    "# randomly shuffle\n",
    "exp_buffer = exp_buffer[torch.randperm(exp_buffer.size()[0])]"
   ]
  },
  {
   "cell_type": "code",
   "execution_count": 9,
   "metadata": {},
   "outputs": [
    {
     "data": {
      "text/plain": [
       "tensor([[ 0.3869,  1.1788,  0.3290,  ...,  0.0000,  0.0000,  0.0000],\n",
       "        [ 0.1589,  1.6129,  0.0713,  ...,  0.0000,  0.0000,  0.0000],\n",
       "        [-0.0361,  1.1771,  0.2183,  ...,  0.0000,  0.0000,  0.0000],\n",
       "        ...,\n",
       "        [ 0.0586,  1.3612,  0.0031,  ...,  0.0000,  0.0000,  0.0000],\n",
       "        [-0.0238,  1.3730, -0.2434,  ...,  0.0000,  0.0000,  0.0000],\n",
       "        [ 0.5080,  0.5027,  0.8730,  ...,  0.0000,  0.0000,  0.0000]])"
      ]
     },
     "execution_count": 9,
     "metadata": {},
     "output_type": "execute_result"
    }
   ],
   "source": [
    "exp_buffer"
   ]
  },
  {
   "attachments": {},
   "cell_type": "markdown",
   "metadata": {},
   "source": [
    "### Make dataset by hallucinating offsets"
   ]
  },
  {
   "cell_type": "code",
   "execution_count": 10,
   "metadata": {},
   "outputs": [
    {
     "data": {
      "text/plain": [
       "87085"
      ]
     },
     "execution_count": 10,
     "metadata": {},
     "output_type": "execute_result"
    }
   ],
   "source": [
    "num_samples = exp_buffer.size()[0]\n",
    "num_samples"
   ]
  },
  {
   "cell_type": "code",
   "execution_count": 11,
   "metadata": {},
   "outputs": [],
   "source": [
    "state, action, reward, next_state, done_mask = torch.split(\n",
    "    exp_buffer, [obs_size, action_size, 1, obs_size, 1],\n",
    "    dim=1\n",
    ")"
   ]
  },
  {
   "cell_type": "code",
   "execution_count": 12,
   "metadata": {},
   "outputs": [
    {
     "name": "stdout",
     "output_type": "stream",
     "text": [
      "tensor(-0.5000) tensor(0.5000)\n"
     ]
    },
    {
     "data": {
      "text/plain": [
       "(torch.Size([87085, 2]), torch.Size([87085, 2]))"
      ]
     },
     "execution_count": 12,
     "metadata": {},
     "output_type": "execute_result"
    }
   ],
   "source": [
    "offsets = torch.rand((num_samples,action_size)) - 0.5\n",
    "print(torch.min(offsets), torch.max(offsets))\n",
    "action.size(), offsets.size()"
   ]
  },
  {
   "cell_type": "code",
   "execution_count": 13,
   "metadata": {},
   "outputs": [],
   "source": [
    "hallucinated_actions = action - offsets\n",
    "Y = hallucinated_actions"
   ]
  },
  {
   "cell_type": "code",
   "execution_count": 14,
   "metadata": {},
   "outputs": [],
   "source": [
    "hallucinated_buffer = torch.cat([state, hallucinated_actions, reward, next_state, done_mask], dim=1)\n",
    "X = hallucinated_buffer"
   ]
  },
  {
   "cell_type": "code",
   "execution_count": 15,
   "metadata": {},
   "outputs": [
    {
     "data": {
      "text/plain": [
       "(torch.Size([87085, 20]), torch.Size([87085, 2]))"
      ]
     },
     "execution_count": 15,
     "metadata": {},
     "output_type": "execute_result"
    }
   ],
   "source": [
    "X.size(), Y.size()"
   ]
  },
  {
   "attachments": {},
   "cell_type": "markdown",
   "metadata": {},
   "source": [
    "### Make dataset splits"
   ]
  },
  {
   "cell_type": "code",
   "execution_count": 16,
   "metadata": {},
   "outputs": [],
   "source": [
    "val_frac = 0.1\n",
    "test_frac = 0.1\n",
    "num_val = round(num_samples * val_frac)\n",
    "num_test = round(num_samples * test_frac)\n",
    "num_train = num_samples - num_val - num_test\n",
    "\n",
    "X_train, X_val, X_test = torch.split(X, [num_train, num_val, num_test], dim=0)\n",
    "Y_train, Y_val, Y_test = torch.split(Y, [num_train, num_val, num_test], dim=0)"
   ]
  },
  {
   "cell_type": "code",
   "execution_count": 17,
   "metadata": {},
   "outputs": [
    {
     "name": "stdout",
     "output_type": "stream",
     "text": [
      "torch.Size([69669, 20]) torch.Size([8708, 20]) torch.Size([8708, 20])\n",
      "torch.Size([69669, 2]) torch.Size([8708, 2]) torch.Size([8708, 2])\n"
     ]
    }
   ],
   "source": [
    "print(X_train.size(), X_val.size(), X_test.size())\n",
    "print(Y_train.size(), Y_val.size(), Y_test.size())"
   ]
  },
  {
   "cell_type": "code",
   "execution_count": 18,
   "metadata": {},
   "outputs": [],
   "source": [
    "train_dataset = torch.utils.data.TensorDataset(X_train, Y_train)\n",
    "val_dataset = torch.utils.data.TensorDataset(X_val, Y_val)\n",
    "test_dataset = torch.utils.data.TensorDataset(X_test, Y_test)"
   ]
  },
  {
   "cell_type": "code",
   "execution_count": 19,
   "metadata": {},
   "outputs": [],
   "source": [
    "batch_size = 32\n",
    "num_workers = 2\n",
    "\n",
    "train_loader = torch.utils.data.DataLoader(train_dataset, batch_size=batch_size,\n",
    "                                        shuffle=True, num_workers=num_workers)\n",
    "val_loader = torch.utils.data.DataLoader(val_dataset, batch_size=batch_size,\n",
    "                                        shuffle=True, num_workers=num_workers)\n",
    "test_loader = torch.utils.data.DataLoader(test_dataset, batch_size=batch_size,\n",
    "                                        shuffle=False, num_workers=num_workers)"
   ]
  },
  {
   "attachments": {},
   "cell_type": "markdown",
   "metadata": {},
   "source": [
    "### Train MLP"
   ]
  },
  {
   "cell_type": "code",
   "execution_count": 24,
   "metadata": {},
   "outputs": [],
   "source": [
    "model = MLP([20,64,32,2]).to(device)"
   ]
  },
  {
   "cell_type": "code",
   "execution_count": 25,
   "metadata": {},
   "outputs": [],
   "source": [
    "epochs = 3\n",
    "learning_rate = 1e-6\n",
    "criterion = torch.nn.MSELoss()\n",
    "optimizer = torch.optim.SGD(model.parameters(), lr=0.001, momentum=0.9)"
   ]
  },
  {
   "cell_type": "code",
   "execution_count": 26,
   "metadata": {},
   "outputs": [
    {
     "name": "stdout",
     "output_type": "stream",
     "text": [
      "epoch 0\n",
      "iter      0  train loss: 0.00029775527119636536\n",
      "iter   1000  train loss: 0.16751520277932286\n",
      "iter   2000  train loss: 0.026435363574419172\n",
      "epoch 0 val loss: 0.00019501014804858142\n",
      "epoch 1\n",
      "iter      0  train loss: 0.0014859786496963351\n",
      "iter   1000  train loss: 0.011875649232824798\n",
      "iter   2000  train loss: 0.006705935888749082\n",
      "epoch 1 val loss: 0.00012305220565378972\n",
      "epoch 2\n",
      "iter      0  train loss: 0.001359686040203087\n",
      "iter   1000  train loss: 0.00433085054269759\n",
      "iter   2000  train loss: 0.005180387807806255\n",
      "epoch 2 val loss: 9.384635634498725e-05\n"
     ]
    }
   ],
   "source": [
    "running_loss = 0.0\n",
    "for epoch in range(epochs):  # loop over the dataset multiple times\n",
    "    print(f\"epoch {epoch}\")\n",
    "\n",
    "    for i, data in enumerate(train_loader, 0):\n",
    "\n",
    "        # get the inputs; data is a list of [inputs, labels]\n",
    "        inputs, labels = data\n",
    "        inputs = inputs.to(device)\n",
    "        labels = labels.to(device)\n",
    "\n",
    "        # zero the parameter gradients\n",
    "        optimizer.zero_grad()\n",
    "\n",
    "        # forward + backward + optimize\n",
    "        outputs = model(inputs)\n",
    "        loss = criterion(outputs, labels)\n",
    "        loss.backward()\n",
    "        optimizer.step()\n",
    "\n",
    "        running_loss += loss.item()\n",
    "        if i % 1000 == 0:    # every 1000 mini-batches...\n",
    "            print(f'iter {i:6}  train loss: {running_loss/1000}')\n",
    "            running_loss = 0.0\n",
    "    \n",
    "    running_val_loss = 0\n",
    "    for i, data in enumerate(val_loader, 0):\n",
    "        # get the inputs; data is a list of [inputs, labels]\n",
    "        inputs, labels = data\n",
    "        inputs = inputs.to(device)\n",
    "        labels = labels.to(device)\n",
    "\n",
    "        outputs = model(inputs)\n",
    "        loss = criterion(outputs, labels)\n",
    "        running_val_loss += loss.item()\n",
    "\n",
    "    val_loss = running_val_loss / num_val\n",
    "    print(f\"epoch {epoch} val loss: {val_loss}\")"
   ]
  },
  {
   "cell_type": "code",
   "execution_count": 27,
   "metadata": {},
   "outputs": [],
   "source": [
    "# output model\n",
    "output_path = 'output/sas_to_offset_MLP_0.pt'\n",
    "torch.save(model, output_path)"
   ]
  },
  {
   "cell_type": "code",
   "execution_count": null,
   "metadata": {},
   "outputs": [],
   "source": []
  },
  {
   "cell_type": "code",
   "execution_count": 32,
   "metadata": {},
   "outputs": [],
   "source": [
    "loaded_model = torch.load(output_path).to(device)"
   ]
  },
  {
   "cell_type": "code",
   "execution_count": 33,
   "metadata": {},
   "outputs": [
    {
     "data": {
      "text/plain": [
       "MLP(\n",
       "  (net): Sequential(\n",
       "    (0): Linear(in_features=20, out_features=64, bias=True)\n",
       "    (1): ReLU()\n",
       "    (2): Linear(in_features=64, out_features=32, bias=True)\n",
       "    (3): ReLU()\n",
       "    (4): Linear(in_features=32, out_features=2, bias=True)\n",
       "  )\n",
       ")"
      ]
     },
     "execution_count": 33,
     "metadata": {},
     "output_type": "execute_result"
    }
   ],
   "source": [
    "loaded_model"
   ]
  },
  {
   "cell_type": "code",
   "execution_count": 34,
   "metadata": {},
   "outputs": [
    {
     "data": {
      "text/plain": [
       "tensor([[-0.3422,  0.1250],\n",
       "        [-0.2730, -0.0458],\n",
       "        [-0.4096, -0.7725],\n",
       "        [ 0.0558,  0.1071],\n",
       "        [-0.3762, -0.3240],\n",
       "        [ 0.5837,  0.7711],\n",
       "        [-0.5749,  0.2857],\n",
       "        [ 0.1882, -0.3445],\n",
       "        [-0.2596,  0.1250],\n",
       "        [ 0.2949, -0.4499]])"
      ]
     },
     "execution_count": 34,
     "metadata": {},
     "output_type": "execute_result"
    }
   ],
   "source": [
    "Y_test[:10]"
   ]
  },
  {
   "cell_type": "code",
   "execution_count": 36,
   "metadata": {},
   "outputs": [
    {
     "data": {
      "text/plain": [
       "tensor([[-0.3758,  0.1252],\n",
       "        [-0.2881, -0.0459],\n",
       "        [-0.4266, -0.8181],\n",
       "        [ 0.0541,  0.0807],\n",
       "        [-0.4020, -0.2715],\n",
       "        [ 0.5886,  0.7913],\n",
       "        [-0.6347,  0.2941],\n",
       "        [ 0.1943, -0.3928],\n",
       "        [-0.2400,  0.1383],\n",
       "        [ 0.3156, -0.4975]], device='cuda:0', grad_fn=<AddmmBackward0>)"
      ]
     },
     "execution_count": 36,
     "metadata": {},
     "output_type": "execute_result"
    }
   ],
   "source": [
    "loaded_model(X_test[:10].to(device))"
   ]
  },
  {
   "cell_type": "code",
   "execution_count": 45,
   "metadata": {},
   "outputs": [],
   "source": [
    "diffs = Y_test.to(device) - loaded_model(X_test.to(device))\n",
    "diffs = diffs.detach().cpu()"
   ]
  },
  {
   "cell_type": "code",
   "execution_count": 52,
   "metadata": {},
   "outputs": [
    {
     "data": {
      "image/png": "[encoded data removed]",
      "text/plain": [
       "<Figure size 640x480 with 1 Axes>"
      ]
     },
     "metadata": {},
     "output_type": "display_data"
    }
   ],
   "source": [
    "counts, bins = np.histogram(diffs[:,0], bins=40)\n",
    "plt.stairs(counts, bins)\n",
    "plt.ylabel('Count')\n",
    "plt.xlabel('Difference from calculated offset')\n",
    "plt.title(\"(s,a,s')->offset MLP performance: Action 0\")\n",
    "plt.show()"
   ]
  },
  {
   "cell_type": "code",
   "execution_count": 53,
   "metadata": {},
   "outputs": [
    {
     "data": {
      "image/png": "[encoded data removed]",
      "text/plain": [
       "<Figure size 640x480 with 1 Axes>"
      ]
     },
     "metadata": {},
     "output_type": "display_data"
    }
   ],
   "source": [
    "counts, bins = np.histogram(diffs[:,1], bins=40)\n",
    "plt.stairs(counts, bins)\n",
    "plt.ylabel('Count')\n",
    "plt.xlabel('Difference from calculated offset')\n",
    "plt.title(\"(s,a,s')->offset MLP performance: Action 1\")\n",
    "plt.show()"
   ]
  },
  {
   "cell_type": "code",
   "execution_count": null,
   "metadata": {},
   "outputs": [],
   "source": []
  }
 ],
 "metadata": {
  "kernelspec": {
   "display_name": "cs238",
   "language": "python",
   "name": "python3"
  },
  "language_info": {
   "codemirror_mode": {
    "name": "ipython",
    "version": 3
   },
   "file_extension": ".py",
   "mimetype": "text/x-python",
   "name": "python",
   "nbconvert_exporter": "python",
   "pygments_lexer": "ipython3",
   "version": "3.9.16"
  },
  "orig_nbformat": 4
 },
 "nbformat": 4,
 "nbformat_minor": 2
}
