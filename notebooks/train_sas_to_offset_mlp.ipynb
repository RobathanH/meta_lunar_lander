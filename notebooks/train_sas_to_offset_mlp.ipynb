{
 "cells": [
  {
   "attachments": {},
   "cell_type": "markdown",
   "metadata": {},
   "source": [
    "### Initialize"
   ]
  },
  {
   "cell_type": "code",
   "execution_count": 1,
   "metadata": {},
   "outputs": [],
   "source": [
    "import os, sys\n",
    "sys.path.insert(1, os.path.join(sys.path[0], '..'))"
   ]
  },
  {
   "cell_type": "code",
   "execution_count": 2,
   "metadata": {},
   "outputs": [],
   "source": [
    "import torch\n",
    "from networks import MLP\n",
    "import json\n",
    "import numpy as np\n",
    "from matplotlib import pyplot as plt"
   ]
  },
  {
   "cell_type": "code",
   "execution_count": 3,
   "metadata": {},
   "outputs": [],
   "source": [
    "load_dir = '../output/no_offset_ddpg_0/'\n",
    "obs_size = 8\n",
    "action_size = 2"
   ]
  },
  {
   "cell_type": "code",
   "execution_count": 4,
   "metadata": {},
   "outputs": [
    {
     "data": {
      "text/plain": [
       "device(type='cuda', index=0)"
      ]
     },
     "execution_count": 4,
     "metadata": {},
     "output_type": "execute_result"
    }
   ],
   "source": [
    "device = torch.device(0)\n",
    "device"
   ]
  },
  {
   "cell_type": "code",
   "execution_count": 5,
   "metadata": {},
   "outputs": [
    {
     "data": {
      "text/plain": [
       "<torch._C.Generator at 0x7f478d473ab0>"
      ]
     },
     "execution_count": 5,
     "metadata": {},
     "output_type": "execute_result"
    }
   ],
   "source": [
    "torch.manual_seed(3)"
   ]
  },
  {
   "attachments": {},
   "cell_type": "markdown",
   "metadata": {},
   "source": [
    "### Get experience buffer"
   ]
  },
  {
   "cell_type": "code",
   "execution_count": 6,
   "metadata": {},
   "outputs": [],
   "source": [
    "exp_buffer = torch.load('../output/no_offset_ddpg_0/exp_buffer.pt')\n",
    "# entries are (s, a, r, s', done_flag) with |s|=8, |a|=2, |r|=1, |done_flag|=1"
   ]
  },
  {
   "cell_type": "code",
   "execution_count": 7,
   "metadata": {},
   "outputs": [],
   "source": [
    "exp_buffer = torch.load(os.path.join(load_dir, \"exp_buffer.pt\"))\n",
    "with open(os.path.join(load_dir, \"exp_buffer_state.json\"), \"r\") as fp:\n",
    "    exp_buffer_state = json.load(fp)\n",
    "    next_ind = exp_buffer_state[\"next_ind\"]\n",
    "    full = exp_buffer_state[\"full\"]"
   ]
  },
  {
   "cell_type": "code",
   "execution_count": 8,
   "metadata": {},
   "outputs": [
    {
     "data": {
      "text/plain": [
       "tensor([[0.0050, 1.4019, 0.5016,  ..., 0.0000, 0.0000, 0.0000],\n",
       "        [0.0099, 1.3923, 0.5010,  ..., 0.0000, 0.0000, 0.0000],\n",
       "        [0.0149, 1.3821, 0.5010,  ..., 0.0000, 0.0000, 0.0000],\n",
       "        ...,\n",
       "        [0.0000, 0.0000, 0.0000,  ..., 0.0000, 0.0000, 0.0000],\n",
       "        [0.0000, 0.0000, 0.0000,  ..., 0.0000, 0.0000, 0.0000],\n",
       "        [0.0000, 0.0000, 0.0000,  ..., 0.0000, 0.0000, 0.0000]])"
      ]
     },
     "execution_count": 8,
     "metadata": {},
     "output_type": "execute_result"
    }
   ],
   "source": [
    "exp_buffer"
   ]
  },
  {
   "cell_type": "code",
   "execution_count": 9,
   "metadata": {},
   "outputs": [],
   "source": [
    "# trim empty entries\n",
    "exp_buffer = exp_buffer[:next_ind]\n",
    "# randomly shuffle\n",
    "exp_buffer = exp_buffer[torch.randperm(exp_buffer.size()[0])]"
   ]
  },
  {
   "cell_type": "code",
   "execution_count": 10,
   "metadata": {},
   "outputs": [
    {
     "data": {
      "text/plain": [
       "tensor([[-0.6444,  1.1945, -0.1584,  ...,  0.0000,  0.0000,  0.0000],\n",
       "        [-0.4989,  1.2683, -0.9839,  ...,  0.0000,  0.0000,  0.0000],\n",
       "        [-0.0245,  1.4435, -0.4111,  ...,  0.0000,  0.0000,  0.0000],\n",
       "        ...,\n",
       "        [-0.0294,  1.3901, -0.0742,  ...,  0.0000,  0.0000,  0.0000],\n",
       "        [ 0.4004,  0.7039,  0.5399,  ...,  0.0000,  0.0000,  0.0000],\n",
       "        [ 0.1228,  1.4291,  0.1405,  ...,  0.0000,  0.0000,  0.0000]])"
      ]
     },
     "execution_count": 10,
     "metadata": {},
     "output_type": "execute_result"
    }
   ],
   "source": [
    "exp_buffer"
   ]
  },
  {
   "attachments": {},
   "cell_type": "markdown",
   "metadata": {},
   "source": [
    "### Make dataset by hallucinating offsets"
   ]
  },
  {
   "cell_type": "code",
   "execution_count": 11,
   "metadata": {},
   "outputs": [
    {
     "data": {
      "text/plain": [
       "87085"
      ]
     },
     "execution_count": 11,
     "metadata": {},
     "output_type": "execute_result"
    }
   ],
   "source": [
    "num_samples = exp_buffer.size()[0]\n",
    "num_samples"
   ]
  },
  {
   "cell_type": "code",
   "execution_count": 12,
   "metadata": {},
   "outputs": [],
   "source": [
    "state, action, reward, next_state, done_mask = torch.split(\n",
    "    exp_buffer, [obs_size, action_size, 1, obs_size, 1],\n",
    "    dim=1\n",
    ")"
   ]
  },
  {
   "cell_type": "code",
   "execution_count": 13,
   "metadata": {},
   "outputs": [
    {
     "name": "stdout",
     "output_type": "stream",
     "text": [
      "tensor(-0.5000) tensor(0.5000)\n"
     ]
    },
    {
     "data": {
      "text/plain": [
       "(torch.Size([87085, 2]), torch.Size([87085, 2]))"
      ]
     },
     "execution_count": 13,
     "metadata": {},
     "output_type": "execute_result"
    }
   ],
   "source": [
    "offsets = torch.rand((num_samples,action_size)) - 0.5\n",
    "print(torch.min(offsets), torch.max(offsets))\n",
    "action.size(), offsets.size()"
   ]
  },
  {
   "cell_type": "code",
   "execution_count": 14,
   "metadata": {},
   "outputs": [],
   "source": [
    "hallucinated_actions = action - offsets\n",
    "Y = offsets"
   ]
  },
  {
   "cell_type": "code",
   "execution_count": 15,
   "metadata": {},
   "outputs": [],
   "source": [
    "hallucinated_buffer = torch.cat([state, hallucinated_actions, reward, next_state, done_mask], dim=1)\n",
    "X = hallucinated_buffer"
   ]
  },
  {
   "cell_type": "code",
   "execution_count": 16,
   "metadata": {},
   "outputs": [
    {
     "data": {
      "text/plain": [
       "(torch.Size([87085, 20]), torch.Size([87085, 2]))"
      ]
     },
     "execution_count": 16,
     "metadata": {},
     "output_type": "execute_result"
    }
   ],
   "source": [
    "X.size(), Y.size()"
   ]
  },
  {
   "attachments": {},
   "cell_type": "markdown",
   "metadata": {},
   "source": [
    "### Make dataset splits"
   ]
  },
  {
   "cell_type": "code",
   "execution_count": 17,
   "metadata": {},
   "outputs": [],
   "source": [
    "val_frac = 0.1\n",
    "test_frac = 0.1\n",
    "num_val = round(num_samples * val_frac)\n",
    "num_test = round(num_samples * test_frac)\n",
    "num_train = num_samples - num_val - num_test\n",
    "\n",
    "X_train, X_val, X_test = torch.split(X, [num_train, num_val, num_test], dim=0)\n",
    "Y_train, Y_val, Y_test = torch.split(Y, [num_train, num_val, num_test], dim=0)"
   ]
  },
  {
   "cell_type": "code",
   "execution_count": 18,
   "metadata": {},
   "outputs": [
    {
     "name": "stdout",
     "output_type": "stream",
     "text": [
      "torch.Size([69669, 20]) torch.Size([8708, 20]) torch.Size([8708, 20])\n",
      "torch.Size([69669, 2]) torch.Size([8708, 2]) torch.Size([8708, 2])\n"
     ]
    }
   ],
   "source": [
    "print(X_train.size(), X_val.size(), X_test.size())\n",
    "print(Y_train.size(), Y_val.size(), Y_test.size())"
   ]
  },
  {
   "cell_type": "code",
   "execution_count": 19,
   "metadata": {},
   "outputs": [],
   "source": [
    "train_dataset = torch.utils.data.TensorDataset(X_train, Y_train)\n",
    "val_dataset = torch.utils.data.TensorDataset(X_val, Y_val)\n",
    "test_dataset = torch.utils.data.TensorDataset(X_test, Y_test)"
   ]
  },
  {
   "cell_type": "code",
   "execution_count": 20,
   "metadata": {},
   "outputs": [],
   "source": [
    "batch_size = 32\n",
    "num_workers = 2\n",
    "\n",
    "train_loader = torch.utils.data.DataLoader(train_dataset, batch_size=batch_size,\n",
    "                                        shuffle=True, num_workers=num_workers)\n",
    "val_loader = torch.utils.data.DataLoader(val_dataset, batch_size=batch_size,\n",
    "                                        shuffle=True, num_workers=num_workers)\n",
    "test_loader = torch.utils.data.DataLoader(test_dataset, batch_size=batch_size,\n",
    "                                        shuffle=False, num_workers=num_workers)"
   ]
  },
  {
   "attachments": {},
   "cell_type": "markdown",
   "metadata": {},
   "source": [
    "### Train MLP"
   ]
  },
  {
   "cell_type": "code",
   "execution_count": 103,
   "metadata": {},
   "outputs": [],
   "source": [
    "# model = MLP([20,64,32,2]).to(device)\n",
    "model = MLP([20,256,128,64,2]).to(device)\n",
    "# model = MLP([20,256,128,64,2], lambda x: 0.5 * torch.tanh(x)).to(device)"
   ]
  },
  {
   "cell_type": "code",
   "execution_count": 104,
   "metadata": {},
   "outputs": [],
   "source": [
    "epochs = 10000\n",
    "learning_rate = 1e-6\n",
    "criterion = torch.nn.MSELoss()\n",
    "optimizer = torch.optim.SGD(model.parameters(), lr=0.001, momentum=0.9)\n",
    "best_val_output_path = 'output/sas_to_offset_MLP_1_bestval.pt'"
   ]
  },
  {
   "cell_type": "code",
   "execution_count": 105,
   "metadata": {},
   "outputs": [
    {
     "name": "stdout",
     "output_type": "stream",
     "text": [
      "epoch 0 val RMSE loss: 0.231688 *\n",
      "epoch 1 val RMSE loss: 0.212234 *\n",
      "epoch 2 val RMSE loss: 0.205635 *\n",
      "epoch 3 val RMSE loss: 0.202520 *\n",
      "epoch 4 val RMSE loss: 0.200437 *\n",
      "epoch 5 val RMSE loss: 0.199093 *\n",
      "epoch 6 val RMSE loss: 0.197569 *\n",
      "epoch 7 val RMSE loss: 0.195987 *\n",
      "epoch 8 val RMSE loss: 0.194008 *\n",
      "epoch 9 val RMSE loss: 0.193533 *\n",
      "epoch 10 val RMSE loss: 0.192826 *\n",
      "epoch 11 val RMSE loss: 0.193011\n",
      "epoch 12 val RMSE loss: 0.191495 *\n",
      "epoch 13 val RMSE loss: 0.190047 *\n",
      "epoch 14 val RMSE loss: 0.188851 *\n",
      "epoch 15 val RMSE loss: 0.188864\n",
      "epoch 16 val RMSE loss: 0.187272 *\n",
      "epoch 17 val RMSE loss: 0.188637\n",
      "epoch 18 val RMSE loss: 0.186078 *\n",
      "epoch 19 val RMSE loss: 0.187983\n",
      "epoch 20 val RMSE loss: 0.184805 *\n",
      "epoch 21 val RMSE loss: 0.184740 *\n",
      "epoch 22 val RMSE loss: 0.185490\n",
      "epoch 23 val RMSE loss: 0.182766 *\n",
      "epoch 24 val RMSE loss: 0.183601\n",
      "epoch 25 val RMSE loss: 0.182418 *\n",
      "epoch 26 val RMSE loss: 0.182373 *\n",
      "epoch 27 val RMSE loss: 0.180856 *\n",
      "epoch 28 val RMSE loss: 0.180447 *\n",
      "epoch 29 val RMSE loss: 0.179801 *\n",
      "epoch 30 val RMSE loss: 0.179818\n",
      "epoch 31 val RMSE loss: 0.179167 *\n",
      "epoch 32 val RMSE loss: 0.178168 *\n",
      "epoch 33 val RMSE loss: 0.178114 *\n",
      "epoch 34 val RMSE loss: 0.180814\n",
      "epoch 35 val RMSE loss: 0.177988 *\n",
      "epoch 36 val RMSE loss: 0.177831 *\n",
      "epoch 37 val RMSE loss: 0.176746 *\n",
      "epoch 38 val RMSE loss: 0.177700\n",
      "epoch 39 val RMSE loss: 0.176230 *\n",
      "epoch 40 val RMSE loss: 0.174657 *\n",
      "epoch 41 val RMSE loss: 0.174391 *\n",
      "epoch 42 val RMSE loss: 0.174517\n",
      "epoch 43 val RMSE loss: 0.173579 *\n",
      "epoch 44 val RMSE loss: 0.173202 *\n",
      "epoch 45 val RMSE loss: 0.174221\n",
      "epoch 46 val RMSE loss: 0.173264\n",
      "epoch 47 val RMSE loss: 0.171978 *\n",
      "epoch 48 val RMSE loss: 0.171538 *\n",
      "epoch 49 val RMSE loss: 0.171311 *\n",
      "epoch 50 val RMSE loss: 0.170915 *\n",
      "epoch 51 val RMSE loss: 0.170881 *\n",
      "epoch 52 val RMSE loss: 0.171663\n",
      "epoch 53 val RMSE loss: 0.169339 *\n",
      "epoch 54 val RMSE loss: 0.169672\n",
      "epoch 55 val RMSE loss: 0.169800\n",
      "epoch 56 val RMSE loss: 0.168926 *\n",
      "epoch 57 val RMSE loss: 0.167713 *\n",
      "epoch 58 val RMSE loss: 0.169566\n",
      "epoch 59 val RMSE loss: 0.169494\n",
      "epoch 60 val RMSE loss: 0.168269\n",
      "epoch 61 val RMSE loss: 0.166658 *\n",
      "epoch 62 val RMSE loss: 0.167093\n",
      "epoch 63 val RMSE loss: 0.166471 *\n",
      "epoch 64 val RMSE loss: 0.166087 *\n",
      "epoch 65 val RMSE loss: 0.166862\n",
      "epoch 66 val RMSE loss: 0.166858\n",
      "epoch 67 val RMSE loss: 0.165629 *\n",
      "epoch 68 val RMSE loss: 0.164736 *\n",
      "epoch 69 val RMSE loss: 0.166398\n",
      "epoch 70 val RMSE loss: 0.166301\n",
      "epoch 71 val RMSE loss: 0.166300\n",
      "epoch 72 val RMSE loss: 0.164183 *\n",
      "epoch 73 val RMSE loss: 0.163939 *\n",
      "epoch 74 val RMSE loss: 0.166736\n",
      "epoch 75 val RMSE loss: 0.162279 *\n",
      "epoch 76 val RMSE loss: 0.163265\n",
      "epoch 77 val RMSE loss: 0.162682\n",
      "epoch 78 val RMSE loss: 0.161866 *\n",
      "epoch 79 val RMSE loss: 0.161595 *\n",
      "epoch 80 val RMSE loss: 0.162002\n",
      "epoch 81 val RMSE loss: 0.161693\n",
      "epoch 82 val RMSE loss: 0.162462\n",
      "epoch 83 val RMSE loss: 0.161071 *\n",
      "epoch 84 val RMSE loss: 0.160878 *\n",
      "epoch 85 val RMSE loss: 0.163463\n",
      "epoch 86 val RMSE loss: 0.160399 *\n",
      "epoch 87 val RMSE loss: 0.161707\n",
      "epoch 88 val RMSE loss: 0.163237\n",
      "epoch 89 val RMSE loss: 0.159714 *\n",
      "epoch 90 val RMSE loss: 0.162347\n",
      "epoch 91 val RMSE loss: 0.158549 *\n",
      "epoch 92 val RMSE loss: 0.162742\n",
      "epoch 93 val RMSE loss: 0.162978\n",
      "epoch 94 val RMSE loss: 0.159533\n",
      "epoch 95 val RMSE loss: 0.159224\n",
      "epoch 96 val RMSE loss: 0.160844\n",
      "epoch 97 val RMSE loss: 0.159988\n",
      "epoch 98 val RMSE loss: 0.162034\n",
      "epoch 99 val RMSE loss: 0.158327 *\n",
      "epoch 100 val RMSE loss: 0.157479 *\n",
      "epoch 101 val RMSE loss: 0.157915\n",
      "epoch 102 val RMSE loss: 0.156956 *\n",
      "epoch 103 val RMSE loss: 0.158791\n",
      "epoch 104 val RMSE loss: 0.160049\n",
      "epoch 105 val RMSE loss: 0.157626\n",
      "epoch 106 val RMSE loss: 0.157045\n",
      "epoch 107 val RMSE loss: 0.156702 *\n",
      "epoch 108 val RMSE loss: 0.158688\n",
      "epoch 109 val RMSE loss: 0.156920\n",
      "epoch 110 val RMSE loss: 0.156969\n",
      "epoch 111 val RMSE loss: 0.156453 *\n",
      "epoch 112 val RMSE loss: 0.156527\n",
      "epoch 113 val RMSE loss: 0.156461\n",
      "epoch 114 val RMSE loss: 0.156947\n",
      "epoch 115 val RMSE loss: 0.155519 *\n",
      "epoch 116 val RMSE loss: 0.157846\n",
      "epoch 117 val RMSE loss: 0.156105\n",
      "epoch 118 val RMSE loss: 0.155439 *\n",
      "epoch 119 val RMSE loss: 0.156751\n",
      "epoch 120 val RMSE loss: 0.155678\n",
      "epoch 121 val RMSE loss: 0.161692\n",
      "epoch 122 val RMSE loss: 0.155858\n",
      "epoch 123 val RMSE loss: 0.154751 *\n",
      "epoch 124 val RMSE loss: 0.155479\n",
      "epoch 125 val RMSE loss: 0.157737\n",
      "epoch 126 val RMSE loss: 0.158653\n",
      "epoch 127 val RMSE loss: 0.154389 *\n",
      "epoch 128 val RMSE loss: 0.154952\n",
      "epoch 129 val RMSE loss: 0.154312 *\n",
      "epoch 130 val RMSE loss: 0.157920\n",
      "epoch 131 val RMSE loss: 0.154715\n",
      "epoch 132 val RMSE loss: 0.154746\n",
      "epoch 133 val RMSE loss: 0.154349\n",
      "epoch 134 val RMSE loss: 0.153816 *\n",
      "epoch 135 val RMSE loss: 0.153239 *\n",
      "epoch 136 val RMSE loss: 0.153456\n",
      "epoch 137 val RMSE loss: 0.152833 *\n",
      "epoch 138 val RMSE loss: 0.155593\n",
      "epoch 139 val RMSE loss: 0.155918\n",
      "epoch 140 val RMSE loss: 0.153993\n",
      "epoch 141 val RMSE loss: 0.155612\n",
      "epoch 142 val RMSE loss: 0.153507\n",
      "epoch 143 val RMSE loss: 0.156769\n",
      "epoch 144 val RMSE loss: 0.154291\n",
      "epoch 145 val RMSE loss: 0.152776 *\n",
      "epoch 146 val RMSE loss: 0.154466\n",
      "epoch 147 val RMSE loss: 0.153577\n",
      "epoch 148 val RMSE loss: 0.153382\n",
      "epoch 149 val RMSE loss: 0.152597 *\n",
      "epoch 150 val RMSE loss: 0.153480\n",
      "epoch 151 val RMSE loss: 0.153677\n",
      "epoch 152 val RMSE loss: 0.153345\n",
      "epoch 153 val RMSE loss: 0.154037\n",
      "epoch 154 val RMSE loss: 0.157899\n",
      "epoch 155 val RMSE loss: 0.153315\n",
      "epoch 156 val RMSE loss: 0.154048\n",
      "epoch 157 val RMSE loss: 0.151586 *\n",
      "epoch 158 val RMSE loss: 0.154304\n",
      "epoch 159 val RMSE loss: 0.151644\n",
      "epoch 160 val RMSE loss: 0.152194\n",
      "epoch 161 val RMSE loss: 0.154542\n",
      "epoch 162 val RMSE loss: 0.150361 *\n",
      "epoch 163 val RMSE loss: 0.152199\n",
      "epoch 164 val RMSE loss: 0.151468\n",
      "epoch 165 val RMSE loss: 0.152861\n",
      "epoch 166 val RMSE loss: 0.151952\n",
      "epoch 167 val RMSE loss: 0.151600\n",
      "epoch 168 val RMSE loss: 0.150656\n",
      "epoch 169 val RMSE loss: 0.150100 *\n",
      "epoch 170 val RMSE loss: 0.152001\n",
      "epoch 171 val RMSE loss: 0.151817\n",
      "epoch 172 val RMSE loss: 0.152482\n",
      "epoch 173 val RMSE loss: 0.151214\n",
      "epoch 174 val RMSE loss: 0.154544\n",
      "epoch 175 val RMSE loss: 0.153684\n",
      "epoch 176 val RMSE loss: 0.154242\n",
      "epoch 177 val RMSE loss: 0.150811\n",
      "epoch 178 val RMSE loss: 0.149954 *\n",
      "epoch 179 val RMSE loss: 0.150141\n",
      "epoch 180 val RMSE loss: 0.151473\n",
      "epoch 181 val RMSE loss: 0.151285\n",
      "epoch 182 val RMSE loss: 0.150123\n",
      "epoch 183 val RMSE loss: 0.149789 *\n",
      "epoch 184 val RMSE loss: 0.151015\n",
      "epoch 185 val RMSE loss: 0.150328\n",
      "epoch 186 val RMSE loss: 0.149570 *\n",
      "epoch 187 val RMSE loss: 0.150659\n",
      "epoch 188 val RMSE loss: 0.151780\n",
      "epoch 189 val RMSE loss: 0.150084\n",
      "epoch 190 val RMSE loss: 0.149105 *\n",
      "epoch 191 val RMSE loss: 0.151581\n",
      "epoch 192 val RMSE loss: 0.151731\n",
      "epoch 193 val RMSE loss: 0.149248\n",
      "epoch 194 val RMSE loss: 0.149349\n",
      "epoch 195 val RMSE loss: 0.148921 *\n",
      "epoch 196 val RMSE loss: 0.150532\n",
      "epoch 197 val RMSE loss: 0.148616 *\n",
      "epoch 198 val RMSE loss: 0.149615\n",
      "epoch 199 val RMSE loss: 0.150591\n",
      "epoch 200 val RMSE loss: 0.147948 *\n",
      "epoch 201 val RMSE loss: 0.154689\n",
      "epoch 202 val RMSE loss: 0.148609\n",
      "epoch 203 val RMSE loss: 0.159511\n",
      "epoch 204 val RMSE loss: 0.149174\n",
      "epoch 205 val RMSE loss: 0.156937\n",
      "epoch 206 val RMSE loss: 0.150225\n",
      "epoch 207 val RMSE loss: 0.148855\n",
      "epoch 208 val RMSE loss: 0.148860\n",
      "epoch 209 val RMSE loss: 0.151475\n",
      "epoch 210 val RMSE loss: 0.151065\n",
      "epoch 211 val RMSE loss: 0.158012\n",
      "epoch 212 val RMSE loss: 0.149103\n",
      "epoch 213 val RMSE loss: 0.149038\n",
      "epoch 214 val RMSE loss: 0.148980\n",
      "epoch 215 val RMSE loss: 0.150106\n",
      "epoch 216 val RMSE loss: 0.149869\n",
      "epoch 217 val RMSE loss: 0.148488\n",
      "epoch 218 val RMSE loss: 0.147731 *\n",
      "epoch 219 val RMSE loss: 0.148584\n",
      "epoch 220 val RMSE loss: 0.147524 *\n",
      "epoch 221 val RMSE loss: 0.147311 *\n",
      "epoch 222 val RMSE loss: 0.148329\n",
      "epoch 223 val RMSE loss: 0.147284 *\n",
      "epoch 224 val RMSE loss: 0.147131 *\n",
      "epoch 225 val RMSE loss: 0.149828\n",
      "epoch 226 val RMSE loss: 0.148041\n",
      "epoch 227 val RMSE loss: 0.149382\n",
      "epoch 228 val RMSE loss: 0.148728\n",
      "epoch 229 val RMSE loss: 0.146585 *\n",
      "epoch 230 val RMSE loss: 0.146624\n",
      "epoch 231 val RMSE loss: 0.148135\n",
      "epoch 232 val RMSE loss: 0.149825\n",
      "epoch 233 val RMSE loss: 0.146800\n",
      "epoch 234 val RMSE loss: 0.163390\n",
      "epoch 235 val RMSE loss: 0.146857\n",
      "epoch 236 val RMSE loss: 0.150379\n",
      "epoch 237 val RMSE loss: 0.148195\n",
      "epoch 238 val RMSE loss: 0.146787\n",
      "epoch 239 val RMSE loss: 0.149087\n",
      "epoch 240 val RMSE loss: 0.146165 *\n",
      "epoch 241 val RMSE loss: 0.146013 *\n",
      "epoch 242 val RMSE loss: 0.149177\n",
      "epoch 243 val RMSE loss: 0.146560\n",
      "epoch 244 val RMSE loss: 0.150909\n",
      "epoch 245 val RMSE loss: 0.146778\n",
      "epoch 246 val RMSE loss: 0.149963\n",
      "epoch 247 val RMSE loss: 0.146699\n",
      "epoch 248 val RMSE loss: 0.147044\n",
      "epoch 249 val RMSE loss: 0.146107\n",
      "epoch 250 val RMSE loss: 0.145911 *\n",
      "epoch 251 val RMSE loss: 0.147590\n",
      "epoch 252 val RMSE loss: 0.145780 *\n",
      "epoch 253 val RMSE loss: 0.148141\n",
      "epoch 254 val RMSE loss: 0.146181\n",
      "epoch 255 val RMSE loss: 0.148800\n",
      "epoch 256 val RMSE loss: 0.147208\n",
      "epoch 257 val RMSE loss: 0.145807\n",
      "epoch 258 val RMSE loss: 0.147527\n",
      "epoch 259 val RMSE loss: 0.147134\n",
      "epoch 260 val RMSE loss: 0.150103\n",
      "epoch 261 val RMSE loss: 0.147582\n",
      "epoch 262 val RMSE loss: 0.146414\n",
      "epoch 263 val RMSE loss: 0.146582\n",
      "epoch 264 val RMSE loss: 0.145049 *\n",
      "epoch 265 val RMSE loss: 0.147336\n",
      "epoch 266 val RMSE loss: 0.149471\n",
      "epoch 267 val RMSE loss: 0.146317\n",
      "epoch 268 val RMSE loss: 0.146561\n",
      "epoch 269 val RMSE loss: 0.144937 *\n",
      "epoch 270 val RMSE loss: 0.145500\n",
      "epoch 271 val RMSE loss: 0.146645\n",
      "epoch 272 val RMSE loss: 0.144576 *\n",
      "epoch 273 val RMSE loss: 0.145220\n",
      "epoch 274 val RMSE loss: 0.144888\n",
      "epoch 275 val RMSE loss: 0.145457\n",
      "epoch 276 val RMSE loss: 0.144207 *\n",
      "epoch 277 val RMSE loss: 0.146103\n",
      "epoch 278 val RMSE loss: 0.144656\n",
      "epoch 279 val RMSE loss: 0.147330\n",
      "epoch 280 val RMSE loss: 0.146806\n",
      "epoch 281 val RMSE loss: 0.148667\n",
      "epoch 282 val RMSE loss: 0.144944\n",
      "epoch 283 val RMSE loss: 0.146577\n",
      "epoch 284 val RMSE loss: 0.145350\n",
      "epoch 285 val RMSE loss: 0.146925\n",
      "epoch 286 val RMSE loss: 0.145044\n",
      "epoch 287 val RMSE loss: 0.145071\n",
      "epoch 288 val RMSE loss: 0.146100\n",
      "epoch 289 val RMSE loss: 0.146195\n",
      "epoch 290 val RMSE loss: 0.144362\n",
      "epoch 291 val RMSE loss: 0.144543\n",
      "epoch 292 val RMSE loss: 0.145264\n",
      "epoch 293 val RMSE loss: 0.145386\n",
      "epoch 294 val RMSE loss: 0.144769\n",
      "epoch 295 val RMSE loss: 0.144385\n",
      "epoch 296 val RMSE loss: 0.144424\n",
      "epoch 297 val RMSE loss: 0.150907\n",
      "epoch 298 val RMSE loss: 0.145328\n",
      "epoch 299 val RMSE loss: 0.143615 *\n",
      "epoch 300 val RMSE loss: 0.145331\n",
      "epoch 301 val RMSE loss: 0.143146 *\n",
      "epoch 302 val RMSE loss: 0.144565\n",
      "epoch 303 val RMSE loss: 0.144486\n",
      "epoch 304 val RMSE loss: 0.144295\n",
      "epoch 305 val RMSE loss: 0.143866\n",
      "epoch 306 val RMSE loss: 0.143984\n",
      "epoch 307 val RMSE loss: 0.145400\n",
      "epoch 308 val RMSE loss: 0.144477\n",
      "epoch 309 val RMSE loss: 0.145030\n",
      "epoch 310 val RMSE loss: 0.146876\n",
      "epoch 311 val RMSE loss: 0.144294\n",
      "epoch 312 val RMSE loss: 0.146469\n",
      "epoch 313 val RMSE loss: 0.147224\n",
      "epoch 314 val RMSE loss: 0.145078\n",
      "epoch 315 val RMSE loss: 0.143017 *\n",
      "epoch 316 val RMSE loss: 0.149044\n",
      "epoch 317 val RMSE loss: 0.143908\n",
      "epoch 318 val RMSE loss: 0.144859\n",
      "epoch 319 val RMSE loss: 0.145660\n",
      "epoch 320 val RMSE loss: 0.142750 *\n",
      "epoch 321 val RMSE loss: 0.144492\n",
      "epoch 322 val RMSE loss: 0.147561\n",
      "epoch 323 val RMSE loss: 0.144271\n",
      "epoch 324 val RMSE loss: 0.143010\n",
      "epoch 325 val RMSE loss: 0.145318\n",
      "epoch 326 val RMSE loss: 0.145123\n",
      "epoch 327 val RMSE loss: 0.145139\n",
      "epoch 328 val RMSE loss: 0.143278\n",
      "epoch 329 val RMSE loss: 0.142634 *\n",
      "epoch 330 val RMSE loss: 0.144224\n",
      "epoch 331 val RMSE loss: 0.144041\n",
      "epoch 332 val RMSE loss: 0.142707\n",
      "epoch 333 val RMSE loss: 0.144088\n",
      "epoch 334 val RMSE loss: 0.144761\n",
      "epoch 335 val RMSE loss: 0.145536\n",
      "epoch 336 val RMSE loss: 0.146911\n",
      "epoch 337 val RMSE loss: 0.142845\n",
      "epoch 338 val RMSE loss: 0.144606\n",
      "epoch 339 val RMSE loss: 0.146795\n",
      "epoch 340 val RMSE loss: 0.145801\n",
      "epoch 341 val RMSE loss: 0.143838\n",
      "epoch 342 val RMSE loss: 0.144397\n",
      "epoch 343 val RMSE loss: 0.142211 *\n",
      "epoch 344 val RMSE loss: 0.144826\n",
      "epoch 345 val RMSE loss: 0.146221\n",
      "epoch 346 val RMSE loss: 0.144466\n",
      "epoch 347 val RMSE loss: 0.144712\n",
      "epoch 348 val RMSE loss: 0.144971\n",
      "epoch 349 val RMSE loss: 0.142882\n",
      "epoch 350 val RMSE loss: 0.142523\n",
      "epoch 351 val RMSE loss: 0.142773\n",
      "epoch 352 val RMSE loss: 0.144091\n",
      "epoch 353 val RMSE loss: 0.143358\n",
      "epoch 354 val RMSE loss: 0.145226\n",
      "epoch 355 val RMSE loss: 0.142924\n",
      "epoch 356 val RMSE loss: 0.141529 *\n",
      "epoch 357 val RMSE loss: 0.145098\n",
      "epoch 358 val RMSE loss: 0.142161\n",
      "epoch 359 val RMSE loss: 0.143547\n",
      "epoch 360 val RMSE loss: 0.143352\n",
      "epoch 361 val RMSE loss: 0.144160\n",
      "epoch 362 val RMSE loss: 0.142222\n",
      "epoch 363 val RMSE loss: 0.143255\n",
      "epoch 364 val RMSE loss: 0.142836\n",
      "epoch 365 val RMSE loss: 0.143315\n",
      "epoch 366 val RMSE loss: 0.142683\n",
      "epoch 367 val RMSE loss: 0.142491\n",
      "epoch 368 val RMSE loss: 0.145202\n",
      "epoch 369 val RMSE loss: 0.141436 *\n",
      "epoch 370 val RMSE loss: 0.143991\n",
      "epoch 371 val RMSE loss: 0.145937\n",
      "epoch 372 val RMSE loss: 0.143812\n",
      "epoch 373 val RMSE loss: 0.143570\n",
      "epoch 374 val RMSE loss: 0.143198\n",
      "epoch 375 val RMSE loss: 0.143164\n",
      "epoch 376 val RMSE loss: 0.146092\n",
      "epoch 377 val RMSE loss: 0.143205\n",
      "epoch 378 val RMSE loss: 0.144715\n",
      "epoch 379 val RMSE loss: 0.140830 *\n",
      "epoch 380 val RMSE loss: 0.143815\n",
      "epoch 381 val RMSE loss: 0.140947\n",
      "epoch 382 val RMSE loss: 0.144577\n",
      "epoch 383 val RMSE loss: 0.143082\n",
      "epoch 384 val RMSE loss: 0.143082\n",
      "epoch 385 val RMSE loss: 0.142606\n",
      "epoch 386 val RMSE loss: 0.143946\n",
      "epoch 387 val RMSE loss: 0.141056\n",
      "epoch 388 val RMSE loss: 0.144884\n",
      "epoch 389 val RMSE loss: 0.142634\n",
      "epoch 390 val RMSE loss: 0.141002\n",
      "epoch 391 val RMSE loss: 0.141085\n",
      "epoch 392 val RMSE loss: 0.141425\n",
      "epoch 393 val RMSE loss: 0.141533\n",
      "epoch 394 val RMSE loss: 0.144543\n",
      "epoch 395 val RMSE loss: 0.142915\n",
      "epoch 396 val RMSE loss: 0.140733 *\n",
      "epoch 397 val RMSE loss: 0.144074\n",
      "epoch 398 val RMSE loss: 0.141591\n",
      "epoch 399 val RMSE loss: 0.142771\n",
      "epoch 400 val RMSE loss: 0.142676\n",
      "epoch 401 val RMSE loss: 0.142123\n",
      "epoch 402 val RMSE loss: 0.143063\n",
      "epoch 403 val RMSE loss: 0.145839\n",
      "epoch 404 val RMSE loss: 0.142382\n",
      "epoch 405 val RMSE loss: 0.141551\n",
      "epoch 406 val RMSE loss: 0.141492\n",
      "epoch 407 val RMSE loss: 0.145173\n",
      "epoch 408 val RMSE loss: 0.141486\n",
      "epoch 409 val RMSE loss: 0.141941\n",
      "epoch 410 val RMSE loss: 0.142511\n",
      "epoch 411 val RMSE loss: 0.143028\n",
      "epoch 412 val RMSE loss: 0.141683\n",
      "epoch 413 val RMSE loss: 0.144116\n",
      "epoch 414 val RMSE loss: 0.143152\n",
      "epoch 415 val RMSE loss: 0.141013\n",
      "epoch 416 val RMSE loss: 0.141761\n",
      "epoch 417 val RMSE loss: 0.143045\n",
      "epoch 418 val RMSE loss: 0.144557\n",
      "epoch 419 val RMSE loss: 0.141742\n",
      "epoch 420 val RMSE loss: 0.142641\n",
      "epoch 421 val RMSE loss: 0.141537\n",
      "epoch 422 val RMSE loss: 0.141467\n",
      "epoch 423 val RMSE loss: 0.145146\n",
      "epoch 424 val RMSE loss: 0.140927\n",
      "epoch 425 val RMSE loss: 0.142034\n",
      "epoch 426 val RMSE loss: 0.141377\n",
      "epoch 427 val RMSE loss: 0.143306\n",
      "epoch 428 val RMSE loss: 0.144506\n",
      "epoch 429 val RMSE loss: 0.140314 *\n",
      "epoch 430 val RMSE loss: 0.142316\n",
      "epoch 431 val RMSE loss: 0.140946\n",
      "epoch 432 val RMSE loss: 0.148904\n",
      "epoch 433 val RMSE loss: 0.140557\n"
     ]
    },
    {
     "ename": "KeyboardInterrupt",
     "evalue": "",
     "output_type": "error",
     "traceback": [
      "\u001b[0;31m---------------------------------------------------------------------------\u001b[0m",
      "\u001b[0;31mKeyboardInterrupt\u001b[0m                         Traceback (most recent call last)",
      "Cell \u001b[0;32mIn[105], line 7\u001b[0m\n\u001b[1;32m      3\u001b[0m \u001b[39mfor\u001b[39;00m epoch \u001b[39min\u001b[39;00m \u001b[39mrange\u001b[39m(epochs):  \u001b[39m# loop over the dataset multiple times\u001b[39;00m\n\u001b[1;32m      4\u001b[0m     \u001b[39m# print(f\"epoch {epoch}\")\u001b[39;00m\n\u001b[1;32m      6\u001b[0m     running_train_loss \u001b[39m=\u001b[39m \u001b[39m0.0\u001b[39m\n\u001b[0;32m----> 7\u001b[0m     \u001b[39mfor\u001b[39;00m i, data \u001b[39min\u001b[39;00m \u001b[39menumerate\u001b[39m(train_loader, \u001b[39m0\u001b[39m):\n\u001b[1;32m      8\u001b[0m \n\u001b[1;32m      9\u001b[0m         \u001b[39m# get the inputs; data is a list of [inputs, labels]\u001b[39;00m\n\u001b[1;32m     10\u001b[0m         inputs, labels \u001b[39m=\u001b[39m data\n\u001b[1;32m     11\u001b[0m         inputs \u001b[39m=\u001b[39m inputs\u001b[39m.\u001b[39mto(device)\n",
      "File \u001b[0;32m~/anaconda3/envs/cs238/lib/python3.9/site-packages/torch/utils/data/dataloader.py:628\u001b[0m, in \u001b[0;36m_BaseDataLoaderIter.__next__\u001b[0;34m(self)\u001b[0m\n\u001b[1;32m    625\u001b[0m \u001b[39mif\u001b[39;00m \u001b[39mself\u001b[39m\u001b[39m.\u001b[39m_sampler_iter \u001b[39mis\u001b[39;00m \u001b[39mNone\u001b[39;00m:\n\u001b[1;32m    626\u001b[0m     \u001b[39m# TODO(https://github.com/pytorch/pytorch/issues/76750)\u001b[39;00m\n\u001b[1;32m    627\u001b[0m     \u001b[39mself\u001b[39m\u001b[39m.\u001b[39m_reset()  \u001b[39m# type: ignore[call-arg]\u001b[39;00m\n\u001b[0;32m--> 628\u001b[0m data \u001b[39m=\u001b[39m \u001b[39mself\u001b[39;49m\u001b[39m.\u001b[39;49m_next_data()\n\u001b[1;32m    629\u001b[0m \u001b[39mself\u001b[39m\u001b[39m.\u001b[39m_num_yielded \u001b[39m+\u001b[39m\u001b[39m=\u001b[39m \u001b[39m1\u001b[39m\n\u001b[1;32m    630\u001b[0m \u001b[39mif\u001b[39;00m \u001b[39mself\u001b[39m\u001b[39m.\u001b[39m_dataset_kind \u001b[39m==\u001b[39m _DatasetKind\u001b[39m.\u001b[39mIterable \u001b[39mand\u001b[39;00m \\\n\u001b[1;32m    631\u001b[0m         \u001b[39mself\u001b[39m\u001b[39m.\u001b[39m_IterableDataset_len_called \u001b[39mis\u001b[39;00m \u001b[39mnot\u001b[39;00m \u001b[39mNone\u001b[39;00m \u001b[39mand\u001b[39;00m \\\n\u001b[1;32m    632\u001b[0m         \u001b[39mself\u001b[39m\u001b[39m.\u001b[39m_num_yielded \u001b[39m>\u001b[39m \u001b[39mself\u001b[39m\u001b[39m.\u001b[39m_IterableDataset_len_called:\n",
      "File \u001b[0;32m~/anaconda3/envs/cs238/lib/python3.9/site-packages/torch/utils/data/dataloader.py:1316\u001b[0m, in \u001b[0;36m_MultiProcessingDataLoaderIter._next_data\u001b[0;34m(self)\u001b[0m\n\u001b[1;32m   1313\u001b[0m     \u001b[39mreturn\u001b[39;00m \u001b[39mself\u001b[39m\u001b[39m.\u001b[39m_process_data(data)\n\u001b[1;32m   1315\u001b[0m \u001b[39massert\u001b[39;00m \u001b[39mnot\u001b[39;00m \u001b[39mself\u001b[39m\u001b[39m.\u001b[39m_shutdown \u001b[39mand\u001b[39;00m \u001b[39mself\u001b[39m\u001b[39m.\u001b[39m_tasks_outstanding \u001b[39m>\u001b[39m \u001b[39m0\u001b[39m\n\u001b[0;32m-> 1316\u001b[0m idx, data \u001b[39m=\u001b[39m \u001b[39mself\u001b[39;49m\u001b[39m.\u001b[39;49m_get_data()\n\u001b[1;32m   1317\u001b[0m \u001b[39mself\u001b[39m\u001b[39m.\u001b[39m_tasks_outstanding \u001b[39m-\u001b[39m\u001b[39m=\u001b[39m \u001b[39m1\u001b[39m\n\u001b[1;32m   1318\u001b[0m \u001b[39mif\u001b[39;00m \u001b[39mself\u001b[39m\u001b[39m.\u001b[39m_dataset_kind \u001b[39m==\u001b[39m _DatasetKind\u001b[39m.\u001b[39mIterable:\n\u001b[1;32m   1319\u001b[0m     \u001b[39m# Check for _IterableDatasetStopIteration\u001b[39;00m\n",
      "File \u001b[0;32m~/anaconda3/envs/cs238/lib/python3.9/site-packages/torch/utils/data/dataloader.py:1282\u001b[0m, in \u001b[0;36m_MultiProcessingDataLoaderIter._get_data\u001b[0;34m(self)\u001b[0m\n\u001b[1;32m   1278\u001b[0m     \u001b[39m# In this case, `self._data_queue` is a `queue.Queue`,. But we don't\u001b[39;00m\n\u001b[1;32m   1279\u001b[0m     \u001b[39m# need to call `.task_done()` because we don't use `.join()`.\u001b[39;00m\n\u001b[1;32m   1280\u001b[0m \u001b[39melse\u001b[39;00m:\n\u001b[1;32m   1281\u001b[0m     \u001b[39mwhile\u001b[39;00m \u001b[39mTrue\u001b[39;00m:\n\u001b[0;32m-> 1282\u001b[0m         success, data \u001b[39m=\u001b[39m \u001b[39mself\u001b[39;49m\u001b[39m.\u001b[39;49m_try_get_data()\n\u001b[1;32m   1283\u001b[0m         \u001b[39mif\u001b[39;00m success:\n\u001b[1;32m   1284\u001b[0m             \u001b[39mreturn\u001b[39;00m data\n",
      "File \u001b[0;32m~/anaconda3/envs/cs238/lib/python3.9/site-packages/torch/utils/data/dataloader.py:1120\u001b[0m, in \u001b[0;36m_MultiProcessingDataLoaderIter._try_get_data\u001b[0;34m(self, timeout)\u001b[0m\n\u001b[1;32m   1107\u001b[0m \u001b[39mdef\u001b[39;00m \u001b[39m_try_get_data\u001b[39m(\u001b[39mself\u001b[39m, timeout\u001b[39m=\u001b[39m_utils\u001b[39m.\u001b[39mMP_STATUS_CHECK_INTERVAL):\n\u001b[1;32m   1108\u001b[0m     \u001b[39m# Tries to fetch data from `self._data_queue` once for a given timeout.\u001b[39;00m\n\u001b[1;32m   1109\u001b[0m     \u001b[39m# This can also be used as inner loop of fetching without timeout, with\u001b[39;00m\n\u001b[0;32m   (...)\u001b[0m\n\u001b[1;32m   1117\u001b[0m     \u001b[39m# Returns a 2-tuple:\u001b[39;00m\n\u001b[1;32m   1118\u001b[0m     \u001b[39m#   (bool: whether successfully get data, any: data if successful else None)\u001b[39;00m\n\u001b[1;32m   1119\u001b[0m     \u001b[39mtry\u001b[39;00m:\n\u001b[0;32m-> 1120\u001b[0m         data \u001b[39m=\u001b[39m \u001b[39mself\u001b[39;49m\u001b[39m.\u001b[39;49m_data_queue\u001b[39m.\u001b[39;49mget(timeout\u001b[39m=\u001b[39;49mtimeout)\n\u001b[1;32m   1121\u001b[0m         \u001b[39mreturn\u001b[39;00m (\u001b[39mTrue\u001b[39;00m, data)\n\u001b[1;32m   1122\u001b[0m     \u001b[39mexcept\u001b[39;00m \u001b[39mException\u001b[39;00m \u001b[39mas\u001b[39;00m e:\n\u001b[1;32m   1123\u001b[0m         \u001b[39m# At timeout and error, we manually check whether any worker has\u001b[39;00m\n\u001b[1;32m   1124\u001b[0m         \u001b[39m# failed. Note that this is the only mechanism for Windows to detect\u001b[39;00m\n\u001b[1;32m   1125\u001b[0m         \u001b[39m# worker failures.\u001b[39;00m\n",
      "File \u001b[0;32m~/anaconda3/envs/cs238/lib/python3.9/multiprocessing/queues.py:122\u001b[0m, in \u001b[0;36mQueue.get\u001b[0;34m(self, block, timeout)\u001b[0m\n\u001b[1;32m    120\u001b[0m         \u001b[39mself\u001b[39m\u001b[39m.\u001b[39m_rlock\u001b[39m.\u001b[39mrelease()\n\u001b[1;32m    121\u001b[0m \u001b[39m# unserialize the data after having released the lock\u001b[39;00m\n\u001b[0;32m--> 122\u001b[0m \u001b[39mreturn\u001b[39;00m _ForkingPickler\u001b[39m.\u001b[39;49mloads(res)\n",
      "File \u001b[0;32m~/anaconda3/envs/cs238/lib/python3.9/site-packages/torch/multiprocessing/reductions.py:305\u001b[0m, in \u001b[0;36mrebuild_storage_fd\u001b[0;34m(cls, df, size)\u001b[0m\n\u001b[1;32m    304\u001b[0m \u001b[39mdef\u001b[39;00m \u001b[39mrebuild_storage_fd\u001b[39m(\u001b[39mcls\u001b[39m, df, size):\n\u001b[0;32m--> 305\u001b[0m     fd \u001b[39m=\u001b[39m df\u001b[39m.\u001b[39;49mdetach()\n\u001b[1;32m    306\u001b[0m     \u001b[39mtry\u001b[39;00m:\n\u001b[1;32m    307\u001b[0m         storage \u001b[39m=\u001b[39m storage_from_cache(\u001b[39mcls\u001b[39m, fd_id(fd))\n",
      "File \u001b[0;32m~/anaconda3/envs/cs238/lib/python3.9/multiprocessing/resource_sharer.py:57\u001b[0m, in \u001b[0;36mDupFd.detach\u001b[0;34m(self)\u001b[0m\n\u001b[1;32m     55\u001b[0m \u001b[39mdef\u001b[39;00m \u001b[39mdetach\u001b[39m(\u001b[39mself\u001b[39m):\n\u001b[1;32m     56\u001b[0m     \u001b[39m'''Get the fd.  This should only be called once.'''\u001b[39;00m\n\u001b[0;32m---> 57\u001b[0m     \u001b[39mwith\u001b[39;00m _resource_sharer\u001b[39m.\u001b[39;49mget_connection(\u001b[39mself\u001b[39;49m\u001b[39m.\u001b[39;49m_id) \u001b[39mas\u001b[39;00m conn:\n\u001b[1;32m     58\u001b[0m         \u001b[39mreturn\u001b[39;00m reduction\u001b[39m.\u001b[39mrecv_handle(conn)\n",
      "File \u001b[0;32m~/anaconda3/envs/cs238/lib/python3.9/multiprocessing/resource_sharer.py:84\u001b[0m, in \u001b[0;36m_ResourceSharer.get_connection\u001b[0;34m(ident)\u001b[0m\n\u001b[1;32m     81\u001b[0m \u001b[39m@staticmethod\u001b[39m\n\u001b[1;32m     82\u001b[0m \u001b[39mdef\u001b[39;00m \u001b[39mget_connection\u001b[39m(ident):\n\u001b[1;32m     83\u001b[0m     \u001b[39m'''Return connection from which to receive identified resource.'''\u001b[39;00m\n\u001b[0;32m---> 84\u001b[0m     \u001b[39mfrom\u001b[39;00m \u001b[39m.\u001b[39;00m\u001b[39mconnection\u001b[39;00m \u001b[39mimport\u001b[39;00m Client\n\u001b[1;32m     85\u001b[0m     address, key \u001b[39m=\u001b[39m ident\n\u001b[1;32m     86\u001b[0m     c \u001b[39m=\u001b[39m Client(address, authkey\u001b[39m=\u001b[39mprocess\u001b[39m.\u001b[39mcurrent_process()\u001b[39m.\u001b[39mauthkey)\n",
      "\u001b[0;31mKeyboardInterrupt\u001b[0m: "
     ]
    }
   ],
   "source": [
    "best_val_loss = float('inf')\n",
    "\n",
    "for epoch in range(epochs):  # loop over the dataset multiple times\n",
    "    # print(f\"epoch {epoch}\")\n",
    "\n",
    "    running_train_loss = 0.0\n",
    "    for i, data in enumerate(train_loader, 0):\n",
    "\n",
    "        # get the inputs; data is a list of [inputs, labels]\n",
    "        inputs, labels = data\n",
    "        inputs = inputs.to(device)\n",
    "        labels = labels.to(device)\n",
    "\n",
    "        # zero the parameter gradients\n",
    "        optimizer.zero_grad()\n",
    "\n",
    "        # forward + backward + optimize\n",
    "        outputs = model(inputs)\n",
    "        loss = criterion(outputs, labels)\n",
    "        loss.backward()\n",
    "        optimizer.step()\n",
    "\n",
    "        running_train_loss += loss.item()\n",
    "        if i % 1000 == 999:    # every 1000 mini-batches...\n",
    "            # print(f'iter {i+1:6}  train loss: {running_train_loss/1000}')\n",
    "            running_train_loss = 0.0\n",
    "    \n",
    "    with torch.no_grad():\n",
    "        running_val_loss = 0\n",
    "        num_val_batches = 0\n",
    "        for i, data in enumerate(val_loader, 0):\n",
    "            # get the inputs; data is a list of [inputs, labels]\n",
    "            inputs, labels = data\n",
    "            inputs = inputs.to(device)\n",
    "            labels = labels.to(device)\n",
    "\n",
    "            outputs = model(inputs)\n",
    "            loss = criterion(outputs, labels)\n",
    "            running_val_loss += loss.item()\n",
    "            num_val_batches += 1\n",
    "\n",
    "        val_loss = running_val_loss / num_val_batches\n",
    "        # print(f\"epoch {epoch} val MSE loss: {val_loss:.6f}\")\n",
    "\n",
    "        if val_loss < best_val_loss:\n",
    "            print(f\"epoch {epoch} val RMSE loss: {np.sqrt(val_loss):.6f} *\")\n",
    "            torch.save(model, best_val_output_path)\n",
    "            best_val_loss = val_loss\n",
    "        else:\n",
    "            print(f\"epoch {epoch} val RMSE loss: {np.sqrt(val_loss):.6f}\")\n"
   ]
  },
  {
   "cell_type": "code",
   "execution_count": 24,
   "metadata": {},
   "outputs": [],
   "source": [
    "# output model\n",
    "# output_path = 'output/sas_to_offset_MLP_1.pt'\n",
    "# torch.save(model, output_path)"
   ]
  },
  {
   "cell_type": "code",
   "execution_count": null,
   "metadata": {},
   "outputs": [],
   "source": []
  },
  {
   "cell_type": "code",
   "execution_count": 106,
   "metadata": {},
   "outputs": [],
   "source": [
    "# loaded_model = torch.load(output_path).to(device)\n",
    "loaded_model = torch.load('output/sas_to_offset_MLP_1_bestval.pt').to(device)"
   ]
  },
  {
   "cell_type": "code",
   "execution_count": 107,
   "metadata": {},
   "outputs": [
    {
     "data": {
      "text/plain": [
       "MLP(\n",
       "  (net): Sequential(\n",
       "    (0): Linear(in_features=20, out_features=256, bias=True)\n",
       "    (1): ReLU()\n",
       "    (2): Linear(in_features=256, out_features=128, bias=True)\n",
       "    (3): ReLU()\n",
       "    (4): Linear(in_features=128, out_features=64, bias=True)\n",
       "    (5): ReLU()\n",
       "    (6): Linear(in_features=64, out_features=2, bias=True)\n",
       "  )\n",
       ")"
      ]
     },
     "execution_count": 107,
     "metadata": {},
     "output_type": "execute_result"
    }
   ],
   "source": [
    "loaded_model"
   ]
  },
  {
   "cell_type": "code",
   "execution_count": 108,
   "metadata": {},
   "outputs": [
    {
     "data": {
      "text/plain": [
       "tensor([[ 0.0105, -0.2003],\n",
       "        [-0.2153, -0.1874],\n",
       "        [ 0.4881, -0.1520],\n",
       "        [ 0.0465, -0.1935],\n",
       "        [ 0.4636, -0.4498],\n",
       "        [-0.3340, -0.4061],\n",
       "        [-0.1094,  0.4550],\n",
       "        [ 0.0808,  0.1582],\n",
       "        [ 0.3047,  0.3431],\n",
       "        [-0.1875, -0.2318]])"
      ]
     },
     "execution_count": 108,
     "metadata": {},
     "output_type": "execute_result"
    }
   ],
   "source": [
    "Y_test[:10]"
   ]
  },
  {
   "cell_type": "code",
   "execution_count": 109,
   "metadata": {},
   "outputs": [
    {
     "data": {
      "text/plain": [
       "tensor([[-0.1251, -0.0779],\n",
       "        [-0.1284, -0.2043],\n",
       "        [ 0.3706, -0.1456],\n",
       "        [ 0.0546, -0.2816],\n",
       "        [ 0.1520, -0.3331],\n",
       "        [-0.2705, -0.2731],\n",
       "        [ 0.0150,  0.4703],\n",
       "        [ 0.0574,  0.1960],\n",
       "        [ 0.1905,  0.3226],\n",
       "        [-0.2216, -0.2743]], device='cuda:0', grad_fn=<AddmmBackward0>)"
      ]
     },
     "execution_count": 109,
     "metadata": {},
     "output_type": "execute_result"
    }
   ],
   "source": [
    "loaded_model(X_test[:10].to(device))"
   ]
  },
  {
   "cell_type": "code",
   "execution_count": 110,
   "metadata": {},
   "outputs": [],
   "source": [
    "preds = loaded_model(X_test.to(device))\n",
    "diffs = Y_test.to(device) - preds\n",
    "diffs = diffs.detach().cpu()"
   ]
  },
  {
   "cell_type": "code",
   "execution_count": 111,
   "metadata": {},
   "outputs": [
    {
     "data": {
      "image/png": "[encoded data removed]",
      "text/plain": [
       "<Figure size 640x480 with 1 Axes>"
      ]
     },
     "metadata": {},
     "output_type": "display_data"
    }
   ],
   "source": [
    "counts, bins = np.histogram(diffs[:,0], bins=40)\n",
    "plt.stairs(counts, bins)\n",
    "plt.ylabel('Count')\n",
    "plt.xlabel('Difference from calculated offset')\n",
    "plt.title(\"(s,a,s')->offset MLP performance: Action 0\")\n",
    "plt.show()"
   ]
  },
  {
   "cell_type": "code",
   "execution_count": 112,
   "metadata": {},
   "outputs": [
    {
     "data": {
      "image/png": "[encoded data removed]",
      "text/plain": [
       "<Figure size 640x480 with 1 Axes>"
      ]
     },
     "metadata": {},
     "output_type": "display_data"
    }
   ],
   "source": [
    "counts, bins = np.histogram(diffs[:,1], bins=40)\n",
    "plt.stairs(counts, bins)\n",
    "plt.ylabel('Count')\n",
    "plt.xlabel('Difference from calculated offset')\n",
    "plt.title(\"(s,a,s')->offset MLP performance: Action 1\")\n",
    "plt.show()"
   ]
  },
  {
   "attachments": {},
   "cell_type": "markdown",
   "metadata": {},
   "source": [
    "### Sanity checks"
   ]
  },
  {
   "cell_type": "code",
   "execution_count": 113,
   "metadata": {},
   "outputs": [],
   "source": [
    "fake_preds = torch.zeros_like(Y_test)\n",
    "# fake_preds = torch.rand_like(Y_test) - 0.5\n",
    "fake_diffs = Y_test - fake_preds"
   ]
  },
  {
   "cell_type": "code",
   "execution_count": 114,
   "metadata": {},
   "outputs": [
    {
     "name": "stdout",
     "output_type": "stream",
     "text": [
      "Our network's test RMSE 0.13879768550395966\n",
      "Fake predictions' test RMSE 0.2884916663169861\n"
     ]
    }
   ],
   "source": [
    "print(\"Our network's test RMSE\", torch.sqrt(torch.nn.functional.mse_loss(preds.detach().cpu(), Y_test)).item())\n",
    "print(\"Fake predictions' test RMSE\", torch.sqrt(torch.nn.functional.mse_loss(fake_preds, Y_test)).item())"
   ]
  },
  {
   "cell_type": "code",
   "execution_count": 115,
   "metadata": {},
   "outputs": [
    {
     "data": {
      "image/png": "[encoded data removed]",
      "text/plain": [
       "<Figure size 640x480 with 1 Axes>"
      ]
     },
     "metadata": {},
     "output_type": "display_data"
    }
   ],
   "source": [
    "counts, bins = np.histogram(fake_diffs[:,0], bins=40)\n",
    "plt.stairs(counts, bins)\n",
    "plt.ylabel('Count')\n",
    "plt.xlabel('Difference from calculated offset')\n",
    "plt.title(\"FAKE (s,a,s')->offset MLP performance: Action 0\")\n",
    "plt.show()"
   ]
  },
  {
   "cell_type": "code",
   "execution_count": 116,
   "metadata": {},
   "outputs": [
    {
     "data": {
      "image/png": "[encoded data removed]",
      "text/plain": [
       "<Figure size 640x480 with 1 Axes>"
      ]
     },
     "metadata": {},
     "output_type": "display_data"
    }
   ],
   "source": [
    "counts, bins = np.histogram(fake_diffs[:,1], bins=40)\n",
    "plt.stairs(counts, bins)\n",
    "plt.ylabel('Count')\n",
    "plt.xlabel('Difference from calculated offset')\n",
    "plt.title(\"FAKE (s,a,s')->offset MLP performance: Action 1\")\n",
    "plt.show()"
   ]
  },
  {
   "cell_type": "code",
   "execution_count": null,
   "metadata": {},
   "outputs": [],
   "source": []
  }
 ],
 "metadata": {
  "kernelspec": {
   "display_name": "cs238",
   "language": "python",
   "name": "python3"
  },
  "language_info": {
   "codemirror_mode": {
    "name": "ipython",
    "version": 3
   },
   "file_extension": ".py",
   "mimetype": "text/x-python",
   "name": "python",
   "nbconvert_exporter": "python",
   "pygments_lexer": "ipython3",
   "version": "3.9.16"
  },
  "orig_nbformat": 4
 },
 "nbformat": 4,
 "nbformat_minor": 2
}
