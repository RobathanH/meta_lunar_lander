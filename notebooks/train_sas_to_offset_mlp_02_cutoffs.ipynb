{
 "cells": [
  {
   "attachments": {},
   "cell_type": "markdown",
   "metadata": {},
   "source": [
    "### Initialize"
   ]
  },
  {
   "cell_type": "code",
   "execution_count": 1,
   "metadata": {},
   "outputs": [],
   "source": [
    "import os, sys\n",
    "sys.path.insert(1, os.path.join(sys.path[0], '..'))"
   ]
  },
  {
   "cell_type": "code",
   "execution_count": 2,
   "metadata": {},
   "outputs": [],
   "source": [
    "import torch\n",
    "from networks import MLP\n",
    "import json\n",
    "import numpy as np\n",
    "from matplotlib import pyplot as plt"
   ]
  },
  {
   "cell_type": "code",
   "execution_count": 3,
   "metadata": {},
   "outputs": [],
   "source": [
    "load_dir = '../manually_saved_runs/no_offset_ddpg_2/'\n",
    "obs_size = 8\n",
    "action_size = 2"
   ]
  },
  {
   "cell_type": "code",
   "execution_count": 4,
   "metadata": {},
   "outputs": [
    {
     "data": {
      "text/plain": [
       "device(type='cuda', index=0)"
      ]
     },
     "execution_count": 4,
     "metadata": {},
     "output_type": "execute_result"
    }
   ],
   "source": [
    "device = torch.device(0)\n",
    "device"
   ]
  },
  {
   "cell_type": "code",
   "execution_count": 5,
   "metadata": {},
   "outputs": [
    {
     "data": {
      "text/plain": [
       "<torch._C.Generator at 0x7f297c07fab0>"
      ]
     },
     "execution_count": 5,
     "metadata": {},
     "output_type": "execute_result"
    }
   ],
   "source": [
    "torch.manual_seed(3)"
   ]
  },
  {
   "attachments": {},
   "cell_type": "markdown",
   "metadata": {},
   "source": [
    "### Get experience buffer"
   ]
  },
  {
   "cell_type": "code",
   "execution_count": 6,
   "metadata": {},
   "outputs": [],
   "source": [
    "exp_buffer = torch.load('../manually_saved_runs/no_offset_ddpg_2/exp_buffer.pt')\n",
    "# entries are (s, a, r, s', done_flag) with |s|=8, |a|=2, |r|=1, |done_flag|=1"
   ]
  },
  {
   "cell_type": "code",
   "execution_count": 7,
   "metadata": {},
   "outputs": [],
   "source": [
    "exp_buffer = torch.load(os.path.join(load_dir, \"exp_buffer.pt\"))\n",
    "with open(os.path.join(load_dir, \"exp_buffer_state.json\"), \"r\") as fp:\n",
    "    exp_buffer_state = json.load(fp)\n",
    "    next_ind = exp_buffer_state[\"next_ind\"]\n",
    "    full = exp_buffer_state[\"full\"]"
   ]
  },
  {
   "cell_type": "code",
   "execution_count": 8,
   "metadata": {},
   "outputs": [
    {
     "data": {
      "text/plain": [
       "tensor([[ 0.0503, -0.0013, -0.1837,  ...,  1.0000,  0.0000,  0.0000],\n",
       "        [ 0.0485, -0.0013, -0.1727,  ...,  1.0000,  0.0000,  0.0000],\n",
       "        [ 0.0469, -0.0013, -0.1613,  ...,  1.0000,  0.0000,  0.0000],\n",
       "        ...,\n",
       "        [ 0.0561, -0.0013, -0.2226,  ...,  1.0000,  0.0000,  0.0000],\n",
       "        [ 0.0541, -0.0013, -0.2093,  ...,  1.0000,  0.0000,  0.0000],\n",
       "        [ 0.0521, -0.0013, -0.1952,  ...,  1.0000,  0.0000,  0.0000]])"
      ]
     },
     "execution_count": 8,
     "metadata": {},
     "output_type": "execute_result"
    }
   ],
   "source": [
    "exp_buffer"
   ]
  },
  {
   "cell_type": "code",
   "execution_count": 9,
   "metadata": {},
   "outputs": [],
   "source": [
    "# trim empty entries\n",
    "exp_buffer = exp_buffer[:next_ind]\n",
    "# randomly shuffle\n",
    "exp_buffer = exp_buffer[torch.randperm(exp_buffer.size()[0])]"
   ]
  },
  {
   "cell_type": "code",
   "execution_count": 10,
   "metadata": {},
   "outputs": [
    {
     "data": {
      "text/plain": [
       "tensor([[-2.1882e-02, -8.0869e-04, -3.5635e-05,  ...,  1.0000e+00,\n",
       "          1.0000e+00,  0.0000e+00],\n",
       "        [-2.6642e-01,  7.5530e-01, -3.3576e-02,  ...,  0.0000e+00,\n",
       "          0.0000e+00,  0.0000e+00],\n",
       "        [ 2.7680e-02, -9.2321e-04,  3.7037e-02,  ...,  1.0000e+00,\n",
       "          1.0000e+00,  0.0000e+00],\n",
       "        ...,\n",
       "        [ 1.1478e-01,  5.5291e-01, -1.7437e-01,  ...,  0.0000e+00,\n",
       "          0.0000e+00,  0.0000e+00],\n",
       "        [ 4.8942e-01,  4.5246e-02,  7.4961e-03,  ...,  0.0000e+00,\n",
       "          0.0000e+00,  0.0000e+00],\n",
       "        [ 4.7063e-01, -1.3334e-02, -2.9486e-02,  ...,  0.0000e+00,\n",
       "          0.0000e+00,  0.0000e+00]])"
      ]
     },
     "execution_count": 10,
     "metadata": {},
     "output_type": "execute_result"
    }
   ],
   "source": [
    "exp_buffer"
   ]
  },
  {
   "attachments": {},
   "cell_type": "markdown",
   "metadata": {},
   "source": [
    "### Make dataset by hallucinating offsets"
   ]
  },
  {
   "cell_type": "code",
   "execution_count": 11,
   "metadata": {},
   "outputs": [
    {
     "data": {
      "text/plain": [
       "117242"
      ]
     },
     "execution_count": 11,
     "metadata": {},
     "output_type": "execute_result"
    }
   ],
   "source": [
    "num_samples = exp_buffer.size()[0]\n",
    "num_samples"
   ]
  },
  {
   "cell_type": "code",
   "execution_count": 12,
   "metadata": {},
   "outputs": [],
   "source": [
    "state, action, reward, next_state, done_mask = torch.split(\n",
    "    exp_buffer, [obs_size, action_size, 1, obs_size, 1],\n",
    "    dim=1\n",
    ")"
   ]
  },
  {
   "cell_type": "code",
   "execution_count": 13,
   "metadata": {},
   "outputs": [
    {
     "name": "stdout",
     "output_type": "stream",
     "text": [
      "tensor(-0.5000) tensor(0.5000)\n"
     ]
    },
    {
     "data": {
      "text/plain": [
       "(torch.Size([117242, 2]), torch.Size([117242, 2]))"
      ]
     },
     "execution_count": 13,
     "metadata": {},
     "output_type": "execute_result"
    }
   ],
   "source": [
    "# offsets = (torch.rand((num_samples,action_size)) - 0.5)*2.0\n",
    "offsets = torch.rand((num_samples,action_size)) - 0.5\n",
    "print(torch.min(offsets), torch.max(offsets))\n",
    "action.size(), offsets.size()"
   ]
  },
  {
   "cell_type": "code",
   "execution_count": 14,
   "metadata": {},
   "outputs": [],
   "source": [
    "hallucinated_actions = action - offsets\n",
    "Y = offsets"
   ]
  },
  {
   "cell_type": "code",
   "execution_count": 15,
   "metadata": {},
   "outputs": [],
   "source": [
    "hallucinated_buffer = torch.cat([state, hallucinated_actions, reward, next_state, done_mask], dim=1)\n",
    "X = hallucinated_buffer"
   ]
  },
  {
   "cell_type": "code",
   "execution_count": 16,
   "metadata": {},
   "outputs": [
    {
     "data": {
      "text/plain": [
       "(torch.Size([117242, 20]), torch.Size([117242, 2]))"
      ]
     },
     "execution_count": 16,
     "metadata": {},
     "output_type": "execute_result"
    }
   ],
   "source": [
    "X.size(), Y.size()"
   ]
  },
  {
   "attachments": {},
   "cell_type": "markdown",
   "metadata": {},
   "source": [
    "### Make dataset splits"
   ]
  },
  {
   "cell_type": "code",
   "execution_count": 17,
   "metadata": {},
   "outputs": [],
   "source": [
    "val_frac = 0.1\n",
    "test_frac = 0.1\n",
    "num_val = round(num_samples * val_frac)\n",
    "num_test = round(num_samples * test_frac)\n",
    "num_train = num_samples - num_val - num_test\n",
    "\n",
    "X_train, X_val, X_test = torch.split(X, [num_train, num_val, num_test], dim=0)\n",
    "Y_train, Y_val, Y_test = torch.split(Y, [num_train, num_val, num_test], dim=0)"
   ]
  },
  {
   "cell_type": "code",
   "execution_count": 18,
   "metadata": {},
   "outputs": [
    {
     "name": "stdout",
     "output_type": "stream",
     "text": [
      "torch.Size([93794, 20]) torch.Size([11724, 20]) torch.Size([11724, 20])\n",
      "torch.Size([93794, 2]) torch.Size([11724, 2]) torch.Size([11724, 2])\n"
     ]
    }
   ],
   "source": [
    "print(X_train.size(), X_val.size(), X_test.size())\n",
    "print(Y_train.size(), Y_val.size(), Y_test.size())"
   ]
  },
  {
   "cell_type": "code",
   "execution_count": 19,
   "metadata": {},
   "outputs": [],
   "source": [
    "train_dataset = torch.utils.data.TensorDataset(X_train, Y_train)\n",
    "val_dataset = torch.utils.data.TensorDataset(X_val, Y_val)\n",
    "test_dataset = torch.utils.data.TensorDataset(X_test, Y_test)"
   ]
  },
  {
   "cell_type": "code",
   "execution_count": 20,
   "metadata": {},
   "outputs": [],
   "source": [
    "batch_size = 128\n",
    "num_workers = 2\n",
    "\n",
    "train_loader = torch.utils.data.DataLoader(train_dataset, batch_size=batch_size,\n",
    "                                        shuffle=True, num_workers=num_workers)\n",
    "val_loader = torch.utils.data.DataLoader(val_dataset, batch_size=batch_size,\n",
    "                                        shuffle=True, num_workers=num_workers)\n",
    "test_loader = torch.utils.data.DataLoader(test_dataset, batch_size=batch_size,\n",
    "                                        shuffle=False, num_workers=num_workers)"
   ]
  },
  {
   "attachments": {},
   "cell_type": "markdown",
   "metadata": {},
   "source": [
    "### Train MLP"
   ]
  },
  {
   "cell_type": "code",
   "execution_count": 21,
   "metadata": {},
   "outputs": [],
   "source": [
    "# model = MLP([20,64,32,2]).to(device)\n",
    "model = MLP([20,256,128,64,2]).to(device)\n",
    "# model = MLP([20,256,128,64,2], lambda x: 0.5 * torch.tanh(x)).to(device)"
   ]
  },
  {
   "cell_type": "code",
   "execution_count": 22,
   "metadata": {},
   "outputs": [],
   "source": [
    "epochs = 10000\n",
    "learning_rate = 1e-3\n",
    "criterion = torch.nn.MSELoss()\n",
    "optimizer = torch.optim.SGD(model.parameters(), lr=learning_rate, momentum=0.9)\n",
    "best_val_output_path = 'output/sas_to_offset_MLP_2_with_05_offset_bestval.pt'\n",
    "best_val_output_path = 'output/sas_to_offset_MLP_2_with_1_offset_bestval.pt'"
   ]
  },
  {
   "cell_type": "code",
   "execution_count": 23,
   "metadata": {},
   "outputs": [
    {
     "name": "stdout",
     "output_type": "stream",
     "text": [
      "epoch 0 val RMSE loss: 0.433338 *\n",
      "epoch 1 val RMSE loss: 0.389093 *\n",
      "epoch 2 val RMSE loss: 0.377999 *\n",
      "epoch 3 val RMSE loss: 0.372657 *\n",
      "epoch 4 val RMSE loss: 0.367715 *\n",
      "epoch 5 val RMSE loss: 0.363774 *\n",
      "epoch 6 val RMSE loss: 0.361351 *\n",
      "epoch 7 val RMSE loss: 0.365802\n",
      "epoch 8 val RMSE loss: 0.356290 *\n",
      "epoch 9 val RMSE loss: 0.355239 *\n",
      "epoch 10 val RMSE loss: 0.351718 *\n",
      "epoch 11 val RMSE loss: 0.352156\n",
      "epoch 12 val RMSE loss: 0.348131 *\n",
      "epoch 13 val RMSE loss: 0.346923 *\n",
      "epoch 14 val RMSE loss: 0.347734\n",
      "epoch 15 val RMSE loss: 0.344206 *\n",
      "epoch 16 val RMSE loss: 0.342425 *\n",
      "epoch 17 val RMSE loss: 0.340752 *\n",
      "epoch 18 val RMSE loss: 0.338765 *\n",
      "epoch 19 val RMSE loss: 0.337556 *\n",
      "epoch 20 val RMSE loss: 0.337635\n",
      "epoch 21 val RMSE loss: 0.335380 *\n",
      "epoch 22 val RMSE loss: 0.333444 *\n",
      "epoch 23 val RMSE loss: 0.333566\n",
      "epoch 24 val RMSE loss: 0.331607 *\n",
      "epoch 25 val RMSE loss: 0.334382\n",
      "epoch 26 val RMSE loss: 0.330647 *\n",
      "epoch 27 val RMSE loss: 0.326878 *\n",
      "epoch 28 val RMSE loss: 0.327176\n",
      "epoch 29 val RMSE loss: 0.325293 *\n",
      "epoch 30 val RMSE loss: 0.324551 *\n",
      "epoch 31 val RMSE loss: 0.325792\n",
      "epoch 32 val RMSE loss: 0.322152 *\n",
      "epoch 33 val RMSE loss: 0.322545\n",
      "epoch 34 val RMSE loss: 0.321613 *\n",
      "epoch 35 val RMSE loss: 0.322527\n",
      "epoch 36 val RMSE loss: 0.319655 *\n",
      "epoch 37 val RMSE loss: 0.319862\n",
      "epoch 38 val RMSE loss: 0.321153\n",
      "epoch 39 val RMSE loss: 0.319776\n",
      "epoch 40 val RMSE loss: 0.316749 *\n",
      "epoch 41 val RMSE loss: 0.315282 *\n",
      "epoch 42 val RMSE loss: 0.315097 *\n",
      "epoch 43 val RMSE loss: 0.315069 *\n",
      "epoch 44 val RMSE loss: 0.312932 *\n",
      "epoch 45 val RMSE loss: 0.312999\n",
      "epoch 46 val RMSE loss: 0.313312\n",
      "epoch 47 val RMSE loss: 0.313545\n",
      "epoch 48 val RMSE loss: 0.309312 *\n",
      "epoch 49 val RMSE loss: 0.308673 *\n",
      "epoch 50 val RMSE loss: 0.309136\n",
      "epoch 51 val RMSE loss: 0.308204 *\n",
      "epoch 52 val RMSE loss: 0.308002 *\n",
      "epoch 53 val RMSE loss: 0.305058 *\n",
      "epoch 54 val RMSE loss: 0.304971 *\n",
      "epoch 55 val RMSE loss: 0.303415 *\n",
      "epoch 56 val RMSE loss: 0.303418\n",
      "epoch 57 val RMSE loss: 0.301973 *\n",
      "epoch 58 val RMSE loss: 0.303329\n",
      "epoch 59 val RMSE loss: 0.302677\n",
      "epoch 60 val RMSE loss: 0.300679 *\n",
      "epoch 61 val RMSE loss: 0.300003 *\n",
      "epoch 62 val RMSE loss: 0.298537 *\n",
      "epoch 63 val RMSE loss: 0.299881\n",
      "epoch 64 val RMSE loss: 0.297339 *\n",
      "epoch 65 val RMSE loss: 0.294804 *\n",
      "epoch 66 val RMSE loss: 0.294817\n",
      "epoch 67 val RMSE loss: 0.297167\n",
      "epoch 68 val RMSE loss: 0.292687 *\n",
      "epoch 69 val RMSE loss: 0.293605\n",
      "epoch 70 val RMSE loss: 0.294616\n",
      "epoch 71 val RMSE loss: 0.292830\n",
      "epoch 72 val RMSE loss: 0.292418 *\n",
      "epoch 73 val RMSE loss: 0.290054 *\n",
      "epoch 74 val RMSE loss: 0.287945 *\n",
      "epoch 75 val RMSE loss: 0.287206 *\n",
      "epoch 76 val RMSE loss: 0.287879\n",
      "epoch 77 val RMSE loss: 0.284549 *\n",
      "epoch 78 val RMSE loss: 0.284438 *\n",
      "epoch 79 val RMSE loss: 0.283770 *\n",
      "epoch 80 val RMSE loss: 0.286542\n",
      "epoch 81 val RMSE loss: 0.282359 *\n",
      "epoch 82 val RMSE loss: 0.281121 *\n",
      "epoch 83 val RMSE loss: 0.284701\n",
      "epoch 84 val RMSE loss: 0.280333 *\n",
      "epoch 85 val RMSE loss: 0.278126 *\n",
      "epoch 86 val RMSE loss: 0.282020\n",
      "epoch 87 val RMSE loss: 0.282162\n",
      "epoch 88 val RMSE loss: 0.277480 *\n",
      "epoch 89 val RMSE loss: 0.276930 *\n",
      "epoch 90 val RMSE loss: 0.276018 *\n",
      "epoch 91 val RMSE loss: 0.275711 *\n",
      "epoch 92 val RMSE loss: 0.273812 *\n",
      "epoch 93 val RMSE loss: 0.274182\n",
      "epoch 94 val RMSE loss: 0.272811 *\n",
      "epoch 95 val RMSE loss: 0.276212\n",
      "epoch 96 val RMSE loss: 0.271551 *\n",
      "epoch 97 val RMSE loss: 0.269856 *\n",
      "epoch 98 val RMSE loss: 0.269748 *\n",
      "epoch 99 val RMSE loss: 0.270038\n",
      "epoch 100 val RMSE loss: 0.267665 *\n",
      "epoch 101 val RMSE loss: 0.269451\n",
      "epoch 102 val RMSE loss: 0.267878\n",
      "epoch 103 val RMSE loss: 0.269741\n",
      "epoch 104 val RMSE loss: 0.267712\n",
      "epoch 105 val RMSE loss: 0.267761\n",
      "epoch 106 val RMSE loss: 0.267474 *\n",
      "epoch 107 val RMSE loss: 0.264157 *\n",
      "epoch 108 val RMSE loss: 0.264749\n",
      "epoch 109 val RMSE loss: 0.264380\n",
      "epoch 110 val RMSE loss: 0.264543\n",
      "epoch 111 val RMSE loss: 0.265617\n",
      "epoch 112 val RMSE loss: 0.264470\n",
      "epoch 113 val RMSE loss: 0.262029 *\n",
      "epoch 114 val RMSE loss: 0.267798\n",
      "epoch 115 val RMSE loss: 0.261688 *\n",
      "epoch 116 val RMSE loss: 0.263161\n",
      "epoch 117 val RMSE loss: 0.261488 *\n",
      "epoch 118 val RMSE loss: 0.263001\n",
      "epoch 119 val RMSE loss: 0.262524\n",
      "epoch 120 val RMSE loss: 0.259888 *\n",
      "epoch 121 val RMSE loss: 0.260312\n",
      "epoch 122 val RMSE loss: 0.264672\n",
      "epoch 123 val RMSE loss: 0.259961\n",
      "epoch 124 val RMSE loss: 0.258245 *\n",
      "epoch 125 val RMSE loss: 0.258229 *\n",
      "epoch 126 val RMSE loss: 0.259030\n",
      "epoch 127 val RMSE loss: 0.259967\n",
      "epoch 128 val RMSE loss: 0.257756 *\n",
      "epoch 129 val RMSE loss: 0.257681 *\n",
      "epoch 130 val RMSE loss: 0.263193\n",
      "epoch 131 val RMSE loss: 0.257755\n",
      "epoch 132 val RMSE loss: 0.258471\n",
      "epoch 133 val RMSE loss: 0.256678 *\n",
      "epoch 134 val RMSE loss: 0.256958\n",
      "epoch 135 val RMSE loss: 0.255395 *\n",
      "epoch 136 val RMSE loss: 0.257976\n",
      "epoch 137 val RMSE loss: 0.254416 *\n",
      "epoch 138 val RMSE loss: 0.254779\n",
      "epoch 139 val RMSE loss: 0.258413\n",
      "epoch 140 val RMSE loss: 0.254963\n",
      "epoch 141 val RMSE loss: 0.253809 *\n",
      "epoch 142 val RMSE loss: 0.256229\n",
      "epoch 143 val RMSE loss: 0.257914\n",
      "epoch 144 val RMSE loss: 0.254988\n",
      "epoch 145 val RMSE loss: 0.253612 *\n",
      "epoch 146 val RMSE loss: 0.253013 *\n",
      "epoch 147 val RMSE loss: 0.257534\n",
      "epoch 148 val RMSE loss: 0.254340\n",
      "epoch 149 val RMSE loss: 0.251855 *\n",
      "epoch 150 val RMSE loss: 0.255274\n",
      "epoch 151 val RMSE loss: 0.254216\n",
      "epoch 152 val RMSE loss: 0.253776\n",
      "epoch 153 val RMSE loss: 0.252056\n",
      "epoch 154 val RMSE loss: 0.251458 *\n",
      "epoch 155 val RMSE loss: 0.252929\n",
      "epoch 156 val RMSE loss: 0.253554\n",
      "epoch 157 val RMSE loss: 0.251301 *\n",
      "epoch 158 val RMSE loss: 0.250873 *\n",
      "epoch 159 val RMSE loss: 0.253325\n",
      "epoch 160 val RMSE loss: 0.251656\n",
      "epoch 161 val RMSE loss: 0.248893 *\n",
      "epoch 162 val RMSE loss: 0.249618\n",
      "epoch 163 val RMSE loss: 0.251343\n",
      "epoch 164 val RMSE loss: 0.248931\n",
      "epoch 165 val RMSE loss: 0.251999\n",
      "epoch 166 val RMSE loss: 0.249711\n",
      "epoch 167 val RMSE loss: 0.251010\n",
      "epoch 168 val RMSE loss: 0.250500\n",
      "epoch 169 val RMSE loss: 0.248382 *\n",
      "epoch 170 val RMSE loss: 0.246995 *\n",
      "epoch 171 val RMSE loss: 0.249011\n",
      "epoch 172 val RMSE loss: 0.250425\n",
      "epoch 173 val RMSE loss: 0.248266\n",
      "epoch 174 val RMSE loss: 0.251544\n",
      "epoch 175 val RMSE loss: 0.246642 *\n",
      "epoch 176 val RMSE loss: 0.248250\n",
      "epoch 177 val RMSE loss: 0.253024\n",
      "epoch 178 val RMSE loss: 0.248399\n",
      "epoch 179 val RMSE loss: 0.248554\n",
      "epoch 180 val RMSE loss: 0.247050\n",
      "epoch 181 val RMSE loss: 0.246429 *\n",
      "epoch 182 val RMSE loss: 0.248421\n",
      "epoch 183 val RMSE loss: 0.250918\n",
      "epoch 184 val RMSE loss: 0.250027\n",
      "epoch 185 val RMSE loss: 0.247644\n",
      "epoch 186 val RMSE loss: 0.246748\n",
      "epoch 187 val RMSE loss: 0.249055\n",
      "epoch 188 val RMSE loss: 0.245207 *\n",
      "epoch 189 val RMSE loss: 0.246524\n",
      "epoch 190 val RMSE loss: 0.247285\n",
      "epoch 191 val RMSE loss: 0.245268\n",
      "epoch 192 val RMSE loss: 0.247287\n",
      "epoch 193 val RMSE loss: 0.245901\n",
      "epoch 194 val RMSE loss: 0.246830\n",
      "epoch 195 val RMSE loss: 0.245716\n",
      "epoch 196 val RMSE loss: 0.245033 *\n",
      "epoch 197 val RMSE loss: 0.243912 *\n",
      "epoch 198 val RMSE loss: 0.245915\n",
      "epoch 199 val RMSE loss: 0.243992\n",
      "epoch 200 val RMSE loss: 0.248218\n",
      "epoch 201 val RMSE loss: 0.245474\n",
      "epoch 202 val RMSE loss: 0.245131\n",
      "epoch 203 val RMSE loss: 0.249482\n",
      "epoch 204 val RMSE loss: 0.245346\n",
      "epoch 205 val RMSE loss: 0.244208\n",
      "epoch 206 val RMSE loss: 0.246699\n",
      "epoch 207 val RMSE loss: 0.243483 *\n",
      "epoch 208 val RMSE loss: 0.244716\n",
      "epoch 209 val RMSE loss: 0.244456\n",
      "epoch 210 val RMSE loss: 0.246722\n",
      "epoch 211 val RMSE loss: 0.244766\n",
      "epoch 212 val RMSE loss: 0.242976 *\n",
      "epoch 213 val RMSE loss: 0.246589\n",
      "epoch 214 val RMSE loss: 0.246414\n",
      "epoch 215 val RMSE loss: 0.244880\n",
      "epoch 216 val RMSE loss: 0.245392\n",
      "epoch 217 val RMSE loss: 0.243148\n",
      "epoch 218 val RMSE loss: 0.245631\n",
      "epoch 219 val RMSE loss: 0.244435\n",
      "epoch 220 val RMSE loss: 0.244970\n",
      "epoch 221 val RMSE loss: 0.242248 *\n",
      "epoch 222 val RMSE loss: 0.242393\n",
      "epoch 223 val RMSE loss: 0.245074\n",
      "epoch 224 val RMSE loss: 0.241587 *\n",
      "epoch 225 val RMSE loss: 0.241636\n",
      "epoch 226 val RMSE loss: 0.242383\n",
      "epoch 227 val RMSE loss: 0.243890\n",
      "epoch 228 val RMSE loss: 0.243261\n",
      "epoch 229 val RMSE loss: 0.244784\n",
      "epoch 230 val RMSE loss: 0.245738\n",
      "epoch 231 val RMSE loss: 0.243574\n",
      "epoch 232 val RMSE loss: 0.244523\n",
      "epoch 233 val RMSE loss: 0.251018\n",
      "epoch 234 val RMSE loss: 0.241020 *\n",
      "epoch 235 val RMSE loss: 0.243433\n",
      "epoch 236 val RMSE loss: 0.240536 *\n",
      "epoch 237 val RMSE loss: 0.240216 *\n",
      "epoch 238 val RMSE loss: 0.242204\n",
      "epoch 239 val RMSE loss: 0.241175\n",
      "epoch 240 val RMSE loss: 0.241960\n",
      "epoch 241 val RMSE loss: 0.242135\n",
      "epoch 242 val RMSE loss: 0.240262\n",
      "epoch 243 val RMSE loss: 0.241609\n",
      "epoch 244 val RMSE loss: 0.240537\n",
      "epoch 245 val RMSE loss: 0.240656\n",
      "epoch 246 val RMSE loss: 0.242989\n",
      "epoch 247 val RMSE loss: 0.243120\n",
      "epoch 248 val RMSE loss: 0.245257\n",
      "epoch 249 val RMSE loss: 0.239759 *\n",
      "epoch 250 val RMSE loss: 0.241055\n",
      "epoch 251 val RMSE loss: 0.241317\n",
      "epoch 252 val RMSE loss: 0.243668\n",
      "epoch 253 val RMSE loss: 0.241482\n",
      "epoch 254 val RMSE loss: 0.239733 *\n"
     ]
    },
    {
     "ename": "KeyboardInterrupt",
     "evalue": "",
     "output_type": "error",
     "traceback": [
      "\u001b[0;31m---------------------------------------------------------------------------\u001b[0m",
      "\u001b[0;31mKeyboardInterrupt\u001b[0m                         Traceback (most recent call last)",
      "Cell \u001b[0;32mIn[23], line 7\u001b[0m\n\u001b[1;32m      3\u001b[0m \u001b[39mfor\u001b[39;00m epoch \u001b[39min\u001b[39;00m \u001b[39mrange\u001b[39m(epochs):  \u001b[39m# loop over the dataset multiple times\u001b[39;00m\n\u001b[1;32m      4\u001b[0m     \u001b[39m# print(f\"epoch {epoch}\")\u001b[39;00m\n\u001b[1;32m      6\u001b[0m     running_train_loss \u001b[39m=\u001b[39m \u001b[39m0.0\u001b[39m\n\u001b[0;32m----> 7\u001b[0m     \u001b[39mfor\u001b[39;00m i, data \u001b[39min\u001b[39;00m \u001b[39menumerate\u001b[39m(train_loader, \u001b[39m0\u001b[39m):\n\u001b[1;32m      8\u001b[0m \n\u001b[1;32m      9\u001b[0m         \u001b[39m# get the inputs; data is a list of [inputs, labels]\u001b[39;00m\n\u001b[1;32m     10\u001b[0m         inputs, labels \u001b[39m=\u001b[39m data\n\u001b[1;32m     11\u001b[0m         inputs \u001b[39m=\u001b[39m inputs\u001b[39m.\u001b[39mto(device)\n",
      "File \u001b[0;32m~/anaconda3/envs/cs238/lib/python3.9/site-packages/torch/utils/data/dataloader.py:628\u001b[0m, in \u001b[0;36m_BaseDataLoaderIter.__next__\u001b[0;34m(self)\u001b[0m\n\u001b[1;32m    625\u001b[0m \u001b[39mif\u001b[39;00m \u001b[39mself\u001b[39m\u001b[39m.\u001b[39m_sampler_iter \u001b[39mis\u001b[39;00m \u001b[39mNone\u001b[39;00m:\n\u001b[1;32m    626\u001b[0m     \u001b[39m# TODO(https://github.com/pytorch/pytorch/issues/76750)\u001b[39;00m\n\u001b[1;32m    627\u001b[0m     \u001b[39mself\u001b[39m\u001b[39m.\u001b[39m_reset()  \u001b[39m# type: ignore[call-arg]\u001b[39;00m\n\u001b[0;32m--> 628\u001b[0m data \u001b[39m=\u001b[39m \u001b[39mself\u001b[39;49m\u001b[39m.\u001b[39;49m_next_data()\n\u001b[1;32m    629\u001b[0m \u001b[39mself\u001b[39m\u001b[39m.\u001b[39m_num_yielded \u001b[39m+\u001b[39m\u001b[39m=\u001b[39m \u001b[39m1\u001b[39m\n\u001b[1;32m    630\u001b[0m \u001b[39mif\u001b[39;00m \u001b[39mself\u001b[39m\u001b[39m.\u001b[39m_dataset_kind \u001b[39m==\u001b[39m _DatasetKind\u001b[39m.\u001b[39mIterable \u001b[39mand\u001b[39;00m \\\n\u001b[1;32m    631\u001b[0m         \u001b[39mself\u001b[39m\u001b[39m.\u001b[39m_IterableDataset_len_called \u001b[39mis\u001b[39;00m \u001b[39mnot\u001b[39;00m \u001b[39mNone\u001b[39;00m \u001b[39mand\u001b[39;00m \\\n\u001b[1;32m    632\u001b[0m         \u001b[39mself\u001b[39m\u001b[39m.\u001b[39m_num_yielded \u001b[39m>\u001b[39m \u001b[39mself\u001b[39m\u001b[39m.\u001b[39m_IterableDataset_len_called:\n",
      "File \u001b[0;32m~/anaconda3/envs/cs238/lib/python3.9/site-packages/torch/utils/data/dataloader.py:1316\u001b[0m, in \u001b[0;36m_MultiProcessingDataLoaderIter._next_data\u001b[0;34m(self)\u001b[0m\n\u001b[1;32m   1313\u001b[0m     \u001b[39mreturn\u001b[39;00m \u001b[39mself\u001b[39m\u001b[39m.\u001b[39m_process_data(data)\n\u001b[1;32m   1315\u001b[0m \u001b[39massert\u001b[39;00m \u001b[39mnot\u001b[39;00m \u001b[39mself\u001b[39m\u001b[39m.\u001b[39m_shutdown \u001b[39mand\u001b[39;00m \u001b[39mself\u001b[39m\u001b[39m.\u001b[39m_tasks_outstanding \u001b[39m>\u001b[39m \u001b[39m0\u001b[39m\n\u001b[0;32m-> 1316\u001b[0m idx, data \u001b[39m=\u001b[39m \u001b[39mself\u001b[39;49m\u001b[39m.\u001b[39;49m_get_data()\n\u001b[1;32m   1317\u001b[0m \u001b[39mself\u001b[39m\u001b[39m.\u001b[39m_tasks_outstanding \u001b[39m-\u001b[39m\u001b[39m=\u001b[39m \u001b[39m1\u001b[39m\n\u001b[1;32m   1318\u001b[0m \u001b[39mif\u001b[39;00m \u001b[39mself\u001b[39m\u001b[39m.\u001b[39m_dataset_kind \u001b[39m==\u001b[39m _DatasetKind\u001b[39m.\u001b[39mIterable:\n\u001b[1;32m   1319\u001b[0m     \u001b[39m# Check for _IterableDatasetStopIteration\u001b[39;00m\n",
      "File \u001b[0;32m~/anaconda3/envs/cs238/lib/python3.9/site-packages/torch/utils/data/dataloader.py:1282\u001b[0m, in \u001b[0;36m_MultiProcessingDataLoaderIter._get_data\u001b[0;34m(self)\u001b[0m\n\u001b[1;32m   1278\u001b[0m     \u001b[39m# In this case, `self._data_queue` is a `queue.Queue`,. But we don't\u001b[39;00m\n\u001b[1;32m   1279\u001b[0m     \u001b[39m# need to call `.task_done()` because we don't use `.join()`.\u001b[39;00m\n\u001b[1;32m   1280\u001b[0m \u001b[39melse\u001b[39;00m:\n\u001b[1;32m   1281\u001b[0m     \u001b[39mwhile\u001b[39;00m \u001b[39mTrue\u001b[39;00m:\n\u001b[0;32m-> 1282\u001b[0m         success, data \u001b[39m=\u001b[39m \u001b[39mself\u001b[39;49m\u001b[39m.\u001b[39;49m_try_get_data()\n\u001b[1;32m   1283\u001b[0m         \u001b[39mif\u001b[39;00m success:\n\u001b[1;32m   1284\u001b[0m             \u001b[39mreturn\u001b[39;00m data\n",
      "File \u001b[0;32m~/anaconda3/envs/cs238/lib/python3.9/site-packages/torch/utils/data/dataloader.py:1120\u001b[0m, in \u001b[0;36m_MultiProcessingDataLoaderIter._try_get_data\u001b[0;34m(self, timeout)\u001b[0m\n\u001b[1;32m   1107\u001b[0m \u001b[39mdef\u001b[39;00m \u001b[39m_try_get_data\u001b[39m(\u001b[39mself\u001b[39m, timeout\u001b[39m=\u001b[39m_utils\u001b[39m.\u001b[39mMP_STATUS_CHECK_INTERVAL):\n\u001b[1;32m   1108\u001b[0m     \u001b[39m# Tries to fetch data from `self._data_queue` once for a given timeout.\u001b[39;00m\n\u001b[1;32m   1109\u001b[0m     \u001b[39m# This can also be used as inner loop of fetching without timeout, with\u001b[39;00m\n\u001b[0;32m   (...)\u001b[0m\n\u001b[1;32m   1117\u001b[0m     \u001b[39m# Returns a 2-tuple:\u001b[39;00m\n\u001b[1;32m   1118\u001b[0m     \u001b[39m#   (bool: whether successfully get data, any: data if successful else None)\u001b[39;00m\n\u001b[1;32m   1119\u001b[0m     \u001b[39mtry\u001b[39;00m:\n\u001b[0;32m-> 1120\u001b[0m         data \u001b[39m=\u001b[39m \u001b[39mself\u001b[39;49m\u001b[39m.\u001b[39;49m_data_queue\u001b[39m.\u001b[39;49mget(timeout\u001b[39m=\u001b[39;49mtimeout)\n\u001b[1;32m   1121\u001b[0m         \u001b[39mreturn\u001b[39;00m (\u001b[39mTrue\u001b[39;00m, data)\n\u001b[1;32m   1122\u001b[0m     \u001b[39mexcept\u001b[39;00m \u001b[39mException\u001b[39;00m \u001b[39mas\u001b[39;00m e:\n\u001b[1;32m   1123\u001b[0m         \u001b[39m# At timeout and error, we manually check whether any worker has\u001b[39;00m\n\u001b[1;32m   1124\u001b[0m         \u001b[39m# failed. Note that this is the only mechanism for Windows to detect\u001b[39;00m\n\u001b[1;32m   1125\u001b[0m         \u001b[39m# worker failures.\u001b[39;00m\n",
      "File \u001b[0;32m~/anaconda3/envs/cs238/lib/python3.9/multiprocessing/queues.py:122\u001b[0m, in \u001b[0;36mQueue.get\u001b[0;34m(self, block, timeout)\u001b[0m\n\u001b[1;32m    120\u001b[0m         \u001b[39mself\u001b[39m\u001b[39m.\u001b[39m_rlock\u001b[39m.\u001b[39mrelease()\n\u001b[1;32m    121\u001b[0m \u001b[39m# unserialize the data after having released the lock\u001b[39;00m\n\u001b[0;32m--> 122\u001b[0m \u001b[39mreturn\u001b[39;00m _ForkingPickler\u001b[39m.\u001b[39;49mloads(res)\n",
      "File \u001b[0;32m~/anaconda3/envs/cs238/lib/python3.9/site-packages/torch/multiprocessing/reductions.py:305\u001b[0m, in \u001b[0;36mrebuild_storage_fd\u001b[0;34m(cls, df, size)\u001b[0m\n\u001b[1;32m    304\u001b[0m \u001b[39mdef\u001b[39;00m \u001b[39mrebuild_storage_fd\u001b[39m(\u001b[39mcls\u001b[39m, df, size):\n\u001b[0;32m--> 305\u001b[0m     fd \u001b[39m=\u001b[39m df\u001b[39m.\u001b[39;49mdetach()\n\u001b[1;32m    306\u001b[0m     \u001b[39mtry\u001b[39;00m:\n\u001b[1;32m    307\u001b[0m         storage \u001b[39m=\u001b[39m storage_from_cache(\u001b[39mcls\u001b[39m, fd_id(fd))\n",
      "File \u001b[0;32m~/anaconda3/envs/cs238/lib/python3.9/multiprocessing/resource_sharer.py:57\u001b[0m, in \u001b[0;36mDupFd.detach\u001b[0;34m(self)\u001b[0m\n\u001b[1;32m     55\u001b[0m \u001b[39mdef\u001b[39;00m \u001b[39mdetach\u001b[39m(\u001b[39mself\u001b[39m):\n\u001b[1;32m     56\u001b[0m     \u001b[39m'''Get the fd.  This should only be called once.'''\u001b[39;00m\n\u001b[0;32m---> 57\u001b[0m     \u001b[39mwith\u001b[39;00m _resource_sharer\u001b[39m.\u001b[39;49mget_connection(\u001b[39mself\u001b[39;49m\u001b[39m.\u001b[39;49m_id) \u001b[39mas\u001b[39;00m conn:\n\u001b[1;32m     58\u001b[0m         \u001b[39mreturn\u001b[39;00m reduction\u001b[39m.\u001b[39mrecv_handle(conn)\n",
      "File \u001b[0;32m~/anaconda3/envs/cs238/lib/python3.9/multiprocessing/resource_sharer.py:87\u001b[0m, in \u001b[0;36m_ResourceSharer.get_connection\u001b[0;34m(ident)\u001b[0m\n\u001b[1;32m     85\u001b[0m address, key \u001b[39m=\u001b[39m ident\n\u001b[1;32m     86\u001b[0m c \u001b[39m=\u001b[39m Client(address, authkey\u001b[39m=\u001b[39mprocess\u001b[39m.\u001b[39mcurrent_process()\u001b[39m.\u001b[39mauthkey)\n\u001b[0;32m---> 87\u001b[0m c\u001b[39m.\u001b[39;49msend((key, os\u001b[39m.\u001b[39;49mgetpid()))\n\u001b[1;32m     88\u001b[0m \u001b[39mreturn\u001b[39;00m c\n",
      "File \u001b[0;32m~/anaconda3/envs/cs238/lib/python3.9/multiprocessing/connection.py:206\u001b[0m, in \u001b[0;36m_ConnectionBase.send\u001b[0;34m(self, obj)\u001b[0m\n\u001b[1;32m    204\u001b[0m \u001b[39mself\u001b[39m\u001b[39m.\u001b[39m_check_closed()\n\u001b[1;32m    205\u001b[0m \u001b[39mself\u001b[39m\u001b[39m.\u001b[39m_check_writable()\n\u001b[0;32m--> 206\u001b[0m \u001b[39mself\u001b[39;49m\u001b[39m.\u001b[39;49m_send_bytes(_ForkingPickler\u001b[39m.\u001b[39;49mdumps(obj))\n",
      "File \u001b[0;32m~/anaconda3/envs/cs238/lib/python3.9/multiprocessing/connection.py:411\u001b[0m, in \u001b[0;36mConnection._send_bytes\u001b[0;34m(self, buf)\u001b[0m\n\u001b[1;32m    405\u001b[0m     \u001b[39mself\u001b[39m\u001b[39m.\u001b[39m_send(buf)\n\u001b[1;32m    406\u001b[0m \u001b[39melse\u001b[39;00m:\n\u001b[1;32m    407\u001b[0m     \u001b[39m# Issue #20540: concatenate before sending, to avoid delays due\u001b[39;00m\n\u001b[1;32m    408\u001b[0m     \u001b[39m# to Nagle's algorithm on a TCP socket.\u001b[39;00m\n\u001b[1;32m    409\u001b[0m     \u001b[39m# Also note we want to avoid sending a 0-length buffer separately,\u001b[39;00m\n\u001b[1;32m    410\u001b[0m     \u001b[39m# to avoid \"broken pipe\" errors if the other end closed the pipe.\u001b[39;00m\n\u001b[0;32m--> 411\u001b[0m     \u001b[39mself\u001b[39;49m\u001b[39m.\u001b[39;49m_send(header \u001b[39m+\u001b[39;49m buf)\n",
      "File \u001b[0;32m~/anaconda3/envs/cs238/lib/python3.9/multiprocessing/connection.py:368\u001b[0m, in \u001b[0;36mConnection._send\u001b[0;34m(self, buf, write)\u001b[0m\n\u001b[1;32m    366\u001b[0m remaining \u001b[39m=\u001b[39m \u001b[39mlen\u001b[39m(buf)\n\u001b[1;32m    367\u001b[0m \u001b[39mwhile\u001b[39;00m \u001b[39mTrue\u001b[39;00m:\n\u001b[0;32m--> 368\u001b[0m     n \u001b[39m=\u001b[39m write(\u001b[39mself\u001b[39;49m\u001b[39m.\u001b[39;49m_handle, buf)\n\u001b[1;32m    369\u001b[0m     remaining \u001b[39m-\u001b[39m\u001b[39m=\u001b[39m n\n\u001b[1;32m    370\u001b[0m     \u001b[39mif\u001b[39;00m remaining \u001b[39m==\u001b[39m \u001b[39m0\u001b[39m:\n",
      "\u001b[0;31mKeyboardInterrupt\u001b[0m: "
     ]
    }
   ],
   "source": [
    "best_val_loss = float('inf')\n",
    "\n",
    "for epoch in range(epochs):  # loop over the dataset multiple times\n",
    "    # print(f\"epoch {epoch}\")\n",
    "\n",
    "    running_train_loss = 0.0\n",
    "    for i, data in enumerate(train_loader, 0):\n",
    "\n",
    "        # get the inputs; data is a list of [inputs, labels]\n",
    "        inputs, labels = data\n",
    "        inputs = inputs.to(device)\n",
    "        labels = labels.to(device)\n",
    "\n",
    "        # zero the parameter gradients\n",
    "        optimizer.zero_grad()\n",
    "\n",
    "        # forward + backward + optimize\n",
    "        outputs = model(inputs)\n",
    "        loss = criterion(outputs, labels)\n",
    "        loss.backward()\n",
    "        optimizer.step()\n",
    "\n",
    "        running_train_loss += loss.item()\n",
    "        if i % 1000 == 999:    # every 1000 mini-batches...\n",
    "            # print(f'iter {i+1:6}  train loss: {running_train_loss/1000}')\n",
    "            running_train_loss = 0.0\n",
    "    \n",
    "    with torch.no_grad():\n",
    "        running_val_loss = 0\n",
    "        num_val_batches = 0\n",
    "        for i, data in enumerate(val_loader, 0):\n",
    "            # get the inputs; data is a list of [inputs, labels]\n",
    "            inputs, labels = data\n",
    "            inputs = inputs.to(device)\n",
    "            labels = labels.to(device)\n",
    "\n",
    "            outputs = model(inputs)\n",
    "            loss = criterion(outputs, labels)\n",
    "            running_val_loss += loss.item()\n",
    "            num_val_batches += 1\n",
    "\n",
    "        val_loss = running_val_loss / num_val_batches\n",
    "        # print(f\"epoch {epoch} val MSE loss: {val_loss:.6f}\")\n",
    "\n",
    "        if val_loss < best_val_loss:\n",
    "            print(f\"epoch {epoch} val RMSE loss: {np.sqrt(val_loss):.6f} *\")\n",
    "            torch.save(model, best_val_output_path)\n",
    "            best_val_loss = val_loss\n",
    "        else:\n",
    "            print(f\"epoch {epoch} val RMSE loss: {np.sqrt(val_loss):.6f}\")\n"
   ]
  },
  {
   "cell_type": "code",
   "execution_count": 24,
   "metadata": {},
   "outputs": [],
   "source": [
    "# output model\n",
    "# output_path = 'output/sas_to_offset_MLP_1.pt'\n",
    "# torch.save(model, output_path)"
   ]
  },
  {
   "cell_type": "code",
   "execution_count": null,
   "metadata": {},
   "outputs": [],
   "source": []
  },
  {
   "cell_type": "code",
   "execution_count": 21,
   "metadata": {},
   "outputs": [],
   "source": [
    "# loaded_model = torch.load(output_path).to(device)\n",
    "loaded_model = torch.load('output/sas_to_offset_MLP_2_with_05_offset_bestval.pt').to(device)\n",
    "# loaded_model = torch.load('output/sas_to_offset_MLP_2_with_1_offset_bestval.pt').to(device)"
   ]
  },
  {
   "cell_type": "code",
   "execution_count": 22,
   "metadata": {},
   "outputs": [
    {
     "data": {
      "text/plain": [
       "MLP(\n",
       "  (net): Sequential(\n",
       "    (0): Linear(in_features=20, out_features=256, bias=True)\n",
       "    (1): ReLU()\n",
       "    (2): Linear(in_features=256, out_features=128, bias=True)\n",
       "    (3): ReLU()\n",
       "    (4): Linear(in_features=128, out_features=64, bias=True)\n",
       "    (5): ReLU()\n",
       "    (6): Linear(in_features=64, out_features=2, bias=True)\n",
       "  )\n",
       ")"
      ]
     },
     "execution_count": 22,
     "metadata": {},
     "output_type": "execute_result"
    }
   ],
   "source": [
    "loaded_model"
   ]
  },
  {
   "cell_type": "code",
   "execution_count": 23,
   "metadata": {},
   "outputs": [
    {
     "data": {
      "text/plain": [
       "tensor([[-1.3214e-01, -6.4639e-03],\n",
       "        [-2.1255e-01,  3.8867e-01],\n",
       "        [ 1.8825e-01,  4.0841e-01],\n",
       "        [ 3.7643e-01, -3.8844e-04],\n",
       "        [ 1.5451e-01, -2.2450e-01],\n",
       "        [-1.8339e-01, -2.2432e-01],\n",
       "        [ 7.7523e-02, -2.5953e-01],\n",
       "        [-4.3496e-01, -2.0430e-01],\n",
       "        [-4.8812e-01, -4.9595e-01],\n",
       "        [-3.9334e-01, -3.0078e-01]])"
      ]
     },
     "execution_count": 23,
     "metadata": {},
     "output_type": "execute_result"
    }
   ],
   "source": [
    "Y_test[:10]"
   ]
  },
  {
   "cell_type": "code",
   "execution_count": 24,
   "metadata": {},
   "outputs": [
    {
     "data": {
      "text/plain": [
       "tensor([[ 0.0419, -0.0192],\n",
       "        [-0.0655,  0.2532],\n",
       "        [-0.1574,  0.3320],\n",
       "        [-0.1322,  0.2006],\n",
       "        [ 0.3729, -0.0532],\n",
       "        [-0.2741, -0.1774],\n",
       "        [ 0.0972, -0.2312],\n",
       "        [-0.3027, -0.0951],\n",
       "        [-0.2939, -0.1595],\n",
       "        [ 0.0280, -0.2197]], device='cuda:0', grad_fn=<AddmmBackward0>)"
      ]
     },
     "execution_count": 24,
     "metadata": {},
     "output_type": "execute_result"
    }
   ],
   "source": [
    "loaded_model(X_test[:10].to(device))"
   ]
  },
  {
   "cell_type": "code",
   "execution_count": 25,
   "metadata": {},
   "outputs": [],
   "source": [
    "preds = loaded_model(X_test.to(device))\n",
    "diffs = Y_test.to(device) - preds\n",
    "diffs = diffs.detach().cpu()"
   ]
  },
  {
   "cell_type": "code",
   "execution_count": 26,
   "metadata": {},
   "outputs": [
    {
     "data": {
      "image/png": "[encoded data removed]",
      "text/plain": [
       "<Figure size 640x480 with 1 Axes>"
      ]
     },
     "metadata": {},
     "output_type": "display_data"
    }
   ],
   "source": [
    "counts, bins = np.histogram(diffs[:,0], bins=40)\n",
    "plt.stairs(counts, bins)\n",
    "plt.ylabel('Count')\n",
    "plt.xlabel('Difference from calculated offset')\n",
    "plt.title(\"(s,a,s')->offset MLP performance: Action 0\")\n",
    "plt.show()"
   ]
  },
  {
   "cell_type": "code",
   "execution_count": 27,
   "metadata": {},
   "outputs": [
    {
     "data": {
      "image/png": "[encoded data removed]",
      "text/plain": [
       "<Figure size 640x480 with 1 Axes>"
      ]
     },
     "metadata": {},
     "output_type": "display_data"
    }
   ],
   "source": [
    "counts, bins = np.histogram(diffs[:,1], bins=40)\n",
    "plt.stairs(counts, bins)\n",
    "plt.ylabel('Count')\n",
    "plt.xlabel('Difference from calculated offset')\n",
    "plt.title(\"(s,a,s')->offset MLP performance: Action 1\")\n",
    "plt.show()"
   ]
  },
  {
   "attachments": {},
   "cell_type": "markdown",
   "metadata": {},
   "source": [
    "### Sanity checks"
   ]
  },
  {
   "cell_type": "code",
   "execution_count": 28,
   "metadata": {},
   "outputs": [],
   "source": [
    "fake_preds = torch.zeros_like(Y_test)\n",
    "# fake_preds = torch.rand_like(Y_test) - 0.5\n",
    "fake_diffs = Y_test - fake_preds"
   ]
  },
  {
   "cell_type": "code",
   "execution_count": 29,
   "metadata": {},
   "outputs": [
    {
     "name": "stdout",
     "output_type": "stream",
     "text": [
      "Our network's test RMSE 0.18302175402641296\n",
      "Fake predictions' test RMSE 0.28878629207611084\n"
     ]
    }
   ],
   "source": [
    "print(\"Our network's test RMSE\", torch.sqrt(torch.nn.functional.mse_loss(preds.detach().cpu(), Y_test)).item())\n",
    "print(\"Fake predictions' test RMSE\", torch.sqrt(torch.nn.functional.mse_loss(fake_preds, Y_test)).item())"
   ]
  },
  {
   "cell_type": "code",
   "execution_count": 115,
   "metadata": {},
   "outputs": [
    {
     "data": {
      "image/png": "[encoded data removed]",
      "text/plain": [
       "<Figure size 640x480 with 1 Axes>"
      ]
     },
     "metadata": {},
     "output_type": "display_data"
    }
   ],
   "source": [
    "counts, bins = np.histogram(fake_diffs[:,0], bins=40)\n",
    "plt.stairs(counts, bins)\n",
    "plt.ylabel('Count')\n",
    "plt.xlabel('Difference from calculated offset')\n",
    "plt.title(\"FAKE (s,a,s')->offset MLP performance: Action 0\")\n",
    "plt.show()"
   ]
  },
  {
   "cell_type": "code",
   "execution_count": 116,
   "metadata": {},
   "outputs": [
    {
     "data": {
      "image/png": "[encoded data removed]",
      "text/plain": [
       "<Figure size 640x480 with 1 Axes>"
      ]
     },
     "metadata": {},
     "output_type": "display_data"
    }
   ],
   "source": [
    "counts, bins = np.histogram(fake_diffs[:,1], bins=40)\n",
    "plt.stairs(counts, bins)\n",
    "plt.ylabel('Count')\n",
    "plt.xlabel('Difference from calculated offset')\n",
    "plt.title(\"FAKE (s,a,s')->offset MLP performance: Action 1\")\n",
    "plt.show()"
   ]
  },
  {
   "cell_type": "code",
   "execution_count": null,
   "metadata": {},
   "outputs": [],
   "source": []
  }
 ],
 "metadata": {
  "kernelspec": {
   "display_name": "cs238",
   "language": "python",
   "name": "python3"
  },
  "language_info": {
   "codemirror_mode": {
    "name": "ipython",
    "version": 3
   },
   "file_extension": ".py",
   "mimetype": "text/x-python",
   "name": "python",
   "nbconvert_exporter": "python",
   "pygments_lexer": "ipython3",
   "version": "3.9.16"
  },
  "orig_nbformat": 4
 },
 "nbformat": 4,
 "nbformat_minor": 2
}
